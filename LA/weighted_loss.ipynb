{
 "cells": [
  {
   "cell_type": "code",
   "execution_count": 1,
   "metadata": {},
   "outputs": [],
   "source": [
    "import os\n",
    "import numpy as np\n",
    "import librosa\n",
    "import tensorflow as tf\n",
    "from tensorflow.keras import layers, models, callbacks\n",
    "from sklearn.model_selection import train_test_split"
   ]
  },
  {
   "cell_type": "code",
   "execution_count": 2,
   "metadata": {},
   "outputs": [],
   "source": [
    "# Set your file paths and constants\n",
    "TRAINING_LABEL = \"/data/common_source/datasets/asvpoof-2019-dataset/LA/LA/ASVspoof2019_LA_cm_protocols/ASVspoof2019.LA.cm.train.trn.txt\"\n",
    "TRAINING_DATA = (\n",
    "    \"/data/common_source/datasets/asvpoof-2019-dataset/LA/LA/ASVspoof2019_LA_train/flac\"\n",
    ")\n",
    "VALIDATION_DATA = (\n",
    "    \"/data/common_source/datasets/asvpoof-2019-dataset/LA/LA/ASVspoof2019_LA_dev/flac\"\n",
    ")\n",
    "VALIDATION_LABEL = \"/data/common_source/datasets/asvpoof-2019-dataset/LA/LA/ASVspoof2019_LA_cm_protocols/ASVspoof2019.LA.cm.dev.trl.txt\"\n",
    "SAMPLE_RATE = 22050  # Adjust if your sample rate is different\n",
    "DURATION = 3  # Adjust the duration of your audio samples\n",
    "N_MELS = 128  # Adjust the number of mel filters\n",
    "max_time_steps = 109"
   ]
  },
  {
   "cell_type": "markdown",
   "metadata": {},
   "source": [
    "Apply augmentation only on Positive Samples\n"
   ]
  },
  {
   "cell_type": "code",
   "execution_count": 3,
   "metadata": {},
   "outputs": [],
   "source": [
    "# Function for preprocessing data with audio augmentation\n",
    "# Define audio preprocessing function\n",
    "def preprocess_data(\n",
    "    file_path, max_time_steps=109, sample_rate=22050, duration=3, n_mels=128\n",
    "):\n",
    "    audio, _ = librosa.load(file_path, sr=sample_rate, duration=duration)\n",
    "\n",
    "    # Extract Mel spectrogram using librosa\n",
    "    mel_spectrogram = librosa.feature.melspectrogram(\n",
    "        y=audio, sr=sample_rate, n_mels=n_mels\n",
    "    )\n",
    "    mel_spectrogram = librosa.power_to_db(mel_spectrogram, ref=np.max)\n",
    "\n",
    "    # Ensure all spectrograms have the same width (time steps)\n",
    "    if mel_spectrogram.shape[1] < max_time_steps:\n",
    "        mel_spectrogram = np.pad(\n",
    "            mel_spectrogram,\n",
    "            ((0, 0), (0, max_time_steps - mel_spectrogram.shape[1])),\n",
    "            mode=\"constant\",\n",
    "        )\n",
    "    else:\n",
    "        mel_spectrogram = mel_spectrogram[:, :max_time_steps]\n",
    "\n",
    "    return mel_spectrogram"
   ]
  },
  {
   "cell_type": "code",
   "execution_count": 4,
   "metadata": {},
   "outputs": [],
   "source": [
    "# Load labels for training Data\n",
    "\n",
    "train_labels = {}\n",
    "\n",
    "with open(TRAINING_LABEL, 'r') as label_file:\n",
    "    lines = label_file.readlines()\n",
    "\n",
    "for line in lines:\n",
    "    parts = line.strip().split()\n",
    "    file_name = parts[1]\n",
    "    label = 1 if parts[-1] == \"bonafide\" else 0\n",
    "    train_labels[file_name] = label\n",
    "\n",
    "X = []\n",
    "y = []\n",
    "\n",
    "# Define the maximum time steps for your model\n",
    "\n",
    "for file_name, label in train_labels.items():\n",
    "    file_path = os.path.join(TRAINING_DATA, file_name + \".flac\")\n",
    "\n",
    "        # Use the preprocess_data function\n",
    "    mel_spectrogram = preprocess_data(file_path, max_time_steps=max_time_steps)\n",
    "\n",
    "    X.append(mel_spectrogram)\n",
    "    y.append(label)\n",
    "\n",
    "\n",
    "X = np.array(X)\n",
    "y = np.array(y)\n",
    "\n"
   ]
  },
  {
   "cell_type": "code",
   "execution_count": 6,
   "metadata": {},
   "outputs": [
    {
     "name": "stdout",
     "output_type": "stream",
     "text": [
      "Shape of X before reshape: (25380, 128, 109)\n",
      "Shape of y before reshape: (25380,)\n",
      "(25380, 128, 109, 1)\n"
     ]
    }
   ],
   "source": [
    "# Print out the shapes for debugging\n",
    "print(\"Shape of X before reshape:\", X.shape)\n",
    "print(\"Shape of y before reshape:\", y.shape)\n",
    "\n",
    "# Reshape input data to match the required input shape for ResNet\n",
    "X_new = X.reshape((X.shape[0], N_MELS, max_time_steps, 1))\n",
    "\n",
    "print(X_new.shape)"
   ]
  },
  {
   "cell_type": "code",
   "execution_count": 7,
   "metadata": {},
   "outputs": [],
   "source": [
    "# Define input shape and number of classes\n",
    "input_shape = X[0].shape\n",
    "num_classes = 2  # Assuming you have two classes (0 and 1)"
   ]
  },
  {
   "cell_type": "code",
   "execution_count": 9,
   "metadata": {},
   "outputs": [],
   "source": [
    "# Load labels for evaluation Data\n",
    "\n",
    "eval_X = []\n",
    "eval_y = []\n",
    "\n",
    "with open(VALIDATION_LABEL, 'r') as eval_label_file:\n",
    "    eval_lines = eval_label_file.readlines()\n",
    "\n",
    "eval_labels = {}\n",
    "\n",
    "for line in eval_lines:\n",
    "    parts = line.strip().split()\n",
    "    file_name = parts[1]\n",
    "    label = 1 if parts[-1] == \"bonafide\" else 0\n",
    "    eval_labels[file_name] = label\n",
    "\n",
    "for file_name, label in eval_labels.items():\n",
    "    file_path = os.path.join(VALIDATION_DATA, file_name + \".flac\")\n",
    "\n",
    "        # Use the preprocess_data function\n",
    "    mel_spectrogram = preprocess_data(file_path, max_time_steps=max_time_steps)\n",
    "\n",
    "    eval_X.append(mel_spectrogram)\n",
    "    eval_y.append(label)\n",
    "\n",
    "\n",
    "eval_X = np.array(eval_X)\n",
    "eval_y = np.array(eval_y)\n",
    "\n",
    "\n"
   ]
  },
  {
   "cell_type": "code",
   "execution_count": 10,
   "metadata": {},
   "outputs": [
    {
     "name": "stdout",
     "output_type": "stream",
     "text": [
      "Shape of eval_X before reshape: (24844, 128, 109)\n",
      "Shape of eval_y before reshape: (24844,)\n",
      "(24844, 128, 109, 1)\n"
     ]
    }
   ],
   "source": [
    "# Print out the shapes for debugging\n",
    "print(\"Shape of eval_X before reshape:\", eval_X.shape)\n",
    "print(\"Shape of eval_y before reshape:\", eval_y.shape)\n",
    "\n",
    "eval_X_reshaped = eval_X.reshape((eval_X.shape[0], N_MELS, max_time_steps, 1))\n",
    "\n",
    "print(eval_X_reshaped.shape)"
   ]
  },
  {
   "cell_type": "code",
   "execution_count": 11,
   "metadata": {},
   "outputs": [],
   "source": [
    "from tensorflow.keras import layers, models\n",
    "\n",
    "\n",
    "def resnet_block(x, filters, kernel_size=3, stride=1, conv_shortcut=False):\n",
    "    shortcut = x\n",
    "    if conv_shortcut:\n",
    "        shortcut = layers.Conv2D(filters, (1, 1), strides=(stride, stride))(shortcut)\n",
    "        shortcut = layers.BatchNormalization()(shortcut)\n",
    "\n",
    "    x = layers.Conv2D(\n",
    "        filters, (kernel_size, kernel_size), strides=(stride, stride), padding=\"same\"\n",
    "    )(x)\n",
    "    x = layers.BatchNormalization()(x)\n",
    "    x = layers.Activation(\"relu\")(x)\n",
    "\n",
    "    x = layers.Conv2D(filters, (kernel_size, kernel_size), padding=\"same\")(x)\n",
    "    x = layers.BatchNormalization()(x)\n",
    "\n",
    "    x = layers.add([x, shortcut])\n",
    "    x = layers.Activation(\"relu\")(x)\n",
    "    return x\n",
    "\n",
    "\n",
    "# Build the ResNet model\n",
    "def build_resnet(input_shape, num_classes):\n",
    "    input_tensor = layers.Input(shape=input_shape)\n",
    "\n",
    "    x = layers.Conv2D(64, (7, 7), strides=(2, 2), padding=\"same\")(input_tensor)\n",
    "    x = layers.BatchNormalization()(x)\n",
    "    x = layers.Activation(\"relu\")(x)\n",
    "\n",
    "    x = layers.MaxPooling2D(pool_size=(3, 3), strides=(2, 2), padding=\"same\")(x)\n",
    "\n",
    "    # ResNet blocks\n",
    "    for size in [64, 128, 256, 512]:\n",
    "        x = resnet_block(x, size, conv_shortcut=True)\n",
    "        x = resnet_block(x, size)\n",
    "\n",
    "    x = layers.GlobalAveragePooling2D()(x)\n",
    "\n",
    "    x = layers.Dense(num_classes, activation=\"softmax\")(x)\n",
    "\n",
    "    model = models.Model(inputs=input_tensor, outputs=x, name=\"resnet_model\")\n",
    "    return model"
   ]
  },
  {
   "cell_type": "code",
   "execution_count": 12,
   "metadata": {},
   "outputs": [
    {
     "name": "stderr",
     "output_type": "stream",
     "text": [
      "2023-11-23 12:44:48.899922: I tensorflow/core/platform/cpu_feature_guard.cc:193] This TensorFlow binary is optimized with oneAPI Deep Neural Network Library (oneDNN) to use the following CPU instructions in performance-critical operations:  AVX2 AVX512F FMA\n",
      "To enable them in other operations, rebuild TensorFlow with the appropriate compiler flags.\n",
      "2023-11-23 12:44:49.694730: I tensorflow/core/common_runtime/gpu/gpu_device.cc:1532] Created device /job:localhost/replica:0/task:0/device:GPU:0 with 22834 MB memory:  -> device: 0, name: NVIDIA TITAN RTX, pci bus id: 0000:1a:00.0, compute capability: 7.5\n",
      "2023-11-23 12:44:49.695378: I tensorflow/core/common_runtime/gpu/gpu_device.cc:1532] Created device /job:localhost/replica:0/task:0/device:GPU:1 with 22758 MB memory:  -> device: 1, name: NVIDIA TITAN RTX, pci bus id: 0000:68:00.0, compute capability: 7.5\n"
     ]
    }
   ],
   "source": [
    "num_classes = 2\n",
    "\n",
    "# Assuming input_shape is defined as the shape of one sample in your data\n",
    "input_shape = (128, 109, 1)\n",
    "\n",
    "# Build the model\n",
    "model = build_resnet(input_shape=input_shape, num_classes=num_classes)"
   ]
  },
  {
   "cell_type": "code",
   "execution_count": 13,
   "metadata": {},
   "outputs": [],
   "source": [
    "# Compile the model\n",
    "model.compile(\n",
    "    optimizer=\"adam\", loss=\"sparse_categorical_crossentropy\", metrics=[\"accuracy\"]\n",
    ")\n",
    "\n",
    "# Early Stopping\n",
    "early_stopping = callbacks.EarlyStopping(\n",
    "    monitor=\"val_loss\", patience=10, restore_best_weights=True\n",
    ")"
   ]
  },
  {
   "cell_type": "code",
   "execution_count": 14,
   "metadata": {},
   "outputs": [
    {
     "name": "stdout",
     "output_type": "stream",
     "text": [
      "Model: \"resnet_model\"\n",
      "__________________________________________________________________________________________________\n",
      " Layer (type)                   Output Shape         Param #     Connected to                     \n",
      "==================================================================================================\n",
      " input_1 (InputLayer)           [(None, 128, 109, 1  0           []                               \n",
      "                                )]                                                                \n",
      "                                                                                                  \n",
      " conv2d (Conv2D)                (None, 64, 55, 64)   3200        ['input_1[0][0]']                \n",
      "                                                                                                  \n",
      " batch_normalization (BatchNorm  (None, 64, 55, 64)  256         ['conv2d[0][0]']                 \n",
      " alization)                                                                                       \n",
      "                                                                                                  \n",
      " activation (Activation)        (None, 64, 55, 64)   0           ['batch_normalization[0][0]']    \n",
      "                                                                                                  \n",
      " max_pooling2d (MaxPooling2D)   (None, 32, 28, 64)   0           ['activation[0][0]']             \n",
      "                                                                                                  \n",
      " conv2d_2 (Conv2D)              (None, 32, 28, 64)   36928       ['max_pooling2d[0][0]']          \n",
      "                                                                                                  \n",
      " batch_normalization_2 (BatchNo  (None, 32, 28, 64)  256         ['conv2d_2[0][0]']               \n",
      " rmalization)                                                                                     \n",
      "                                                                                                  \n",
      " activation_1 (Activation)      (None, 32, 28, 64)   0           ['batch_normalization_2[0][0]']  \n",
      "                                                                                                  \n",
      " conv2d_3 (Conv2D)              (None, 32, 28, 64)   36928       ['activation_1[0][0]']           \n",
      "                                                                                                  \n",
      " conv2d_1 (Conv2D)              (None, 32, 28, 64)   4160        ['max_pooling2d[0][0]']          \n",
      "                                                                                                  \n",
      " batch_normalization_3 (BatchNo  (None, 32, 28, 64)  256         ['conv2d_3[0][0]']               \n",
      " rmalization)                                                                                     \n",
      "                                                                                                  \n",
      " batch_normalization_1 (BatchNo  (None, 32, 28, 64)  256         ['conv2d_1[0][0]']               \n",
      " rmalization)                                                                                     \n",
      "                                                                                                  \n",
      " add (Add)                      (None, 32, 28, 64)   0           ['batch_normalization_3[0][0]',  \n",
      "                                                                  'batch_normalization_1[0][0]']  \n",
      "                                                                                                  \n",
      " activation_2 (Activation)      (None, 32, 28, 64)   0           ['add[0][0]']                    \n",
      "                                                                                                  \n",
      " conv2d_4 (Conv2D)              (None, 32, 28, 64)   36928       ['activation_2[0][0]']           \n",
      "                                                                                                  \n",
      " batch_normalization_4 (BatchNo  (None, 32, 28, 64)  256         ['conv2d_4[0][0]']               \n",
      " rmalization)                                                                                     \n",
      "                                                                                                  \n",
      " activation_3 (Activation)      (None, 32, 28, 64)   0           ['batch_normalization_4[0][0]']  \n",
      "                                                                                                  \n",
      " conv2d_5 (Conv2D)              (None, 32, 28, 64)   36928       ['activation_3[0][0]']           \n",
      "                                                                                                  \n",
      " batch_normalization_5 (BatchNo  (None, 32, 28, 64)  256         ['conv2d_5[0][0]']               \n",
      " rmalization)                                                                                     \n",
      "                                                                                                  \n",
      " add_1 (Add)                    (None, 32, 28, 64)   0           ['batch_normalization_5[0][0]',  \n",
      "                                                                  'activation_2[0][0]']           \n",
      "                                                                                                  \n",
      " activation_4 (Activation)      (None, 32, 28, 64)   0           ['add_1[0][0]']                  \n",
      "                                                                                                  \n",
      " conv2d_7 (Conv2D)              (None, 32, 28, 128)  73856       ['activation_4[0][0]']           \n",
      "                                                                                                  \n",
      " batch_normalization_7 (BatchNo  (None, 32, 28, 128)  512        ['conv2d_7[0][0]']               \n",
      " rmalization)                                                                                     \n",
      "                                                                                                  \n",
      " activation_5 (Activation)      (None, 32, 28, 128)  0           ['batch_normalization_7[0][0]']  \n",
      "                                                                                                  \n",
      " conv2d_8 (Conv2D)              (None, 32, 28, 128)  147584      ['activation_5[0][0]']           \n",
      "                                                                                                  \n",
      " conv2d_6 (Conv2D)              (None, 32, 28, 128)  8320        ['activation_4[0][0]']           \n",
      "                                                                                                  \n",
      " batch_normalization_8 (BatchNo  (None, 32, 28, 128)  512        ['conv2d_8[0][0]']               \n",
      " rmalization)                                                                                     \n",
      "                                                                                                  \n",
      " batch_normalization_6 (BatchNo  (None, 32, 28, 128)  512        ['conv2d_6[0][0]']               \n",
      " rmalization)                                                                                     \n",
      "                                                                                                  \n",
      " add_2 (Add)                    (None, 32, 28, 128)  0           ['batch_normalization_8[0][0]',  \n",
      "                                                                  'batch_normalization_6[0][0]']  \n",
      "                                                                                                  \n",
      " activation_6 (Activation)      (None, 32, 28, 128)  0           ['add_2[0][0]']                  \n",
      "                                                                                                  \n",
      " conv2d_9 (Conv2D)              (None, 32, 28, 128)  147584      ['activation_6[0][0]']           \n",
      "                                                                                                  \n",
      " batch_normalization_9 (BatchNo  (None, 32, 28, 128)  512        ['conv2d_9[0][0]']               \n",
      " rmalization)                                                                                     \n",
      "                                                                                                  \n",
      " activation_7 (Activation)      (None, 32, 28, 128)  0           ['batch_normalization_9[0][0]']  \n",
      "                                                                                                  \n",
      " conv2d_10 (Conv2D)             (None, 32, 28, 128)  147584      ['activation_7[0][0]']           \n",
      "                                                                                                  \n",
      " batch_normalization_10 (BatchN  (None, 32, 28, 128)  512        ['conv2d_10[0][0]']              \n",
      " ormalization)                                                                                    \n",
      "                                                                                                  \n",
      " add_3 (Add)                    (None, 32, 28, 128)  0           ['batch_normalization_10[0][0]', \n",
      "                                                                  'activation_6[0][0]']           \n",
      "                                                                                                  \n",
      " activation_8 (Activation)      (None, 32, 28, 128)  0           ['add_3[0][0]']                  \n",
      "                                                                                                  \n",
      " conv2d_12 (Conv2D)             (None, 32, 28, 256)  295168      ['activation_8[0][0]']           \n",
      "                                                                                                  \n",
      " batch_normalization_12 (BatchN  (None, 32, 28, 256)  1024       ['conv2d_12[0][0]']              \n",
      " ormalization)                                                                                    \n",
      "                                                                                                  \n",
      " activation_9 (Activation)      (None, 32, 28, 256)  0           ['batch_normalization_12[0][0]'] \n",
      "                                                                                                  \n",
      " conv2d_13 (Conv2D)             (None, 32, 28, 256)  590080      ['activation_9[0][0]']           \n",
      "                                                                                                  \n",
      " conv2d_11 (Conv2D)             (None, 32, 28, 256)  33024       ['activation_8[0][0]']           \n",
      "                                                                                                  \n",
      " batch_normalization_13 (BatchN  (None, 32, 28, 256)  1024       ['conv2d_13[0][0]']              \n",
      " ormalization)                                                                                    \n",
      "                                                                                                  \n",
      " batch_normalization_11 (BatchN  (None, 32, 28, 256)  1024       ['conv2d_11[0][0]']              \n",
      " ormalization)                                                                                    \n",
      "                                                                                                  \n",
      " add_4 (Add)                    (None, 32, 28, 256)  0           ['batch_normalization_13[0][0]', \n",
      "                                                                  'batch_normalization_11[0][0]'] \n",
      "                                                                                                  \n",
      " activation_10 (Activation)     (None, 32, 28, 256)  0           ['add_4[0][0]']                  \n",
      "                                                                                                  \n",
      " conv2d_14 (Conv2D)             (None, 32, 28, 256)  590080      ['activation_10[0][0]']          \n",
      "                                                                                                  \n",
      " batch_normalization_14 (BatchN  (None, 32, 28, 256)  1024       ['conv2d_14[0][0]']              \n",
      " ormalization)                                                                                    \n",
      "                                                                                                  \n",
      " activation_11 (Activation)     (None, 32, 28, 256)  0           ['batch_normalization_14[0][0]'] \n",
      "                                                                                                  \n",
      " conv2d_15 (Conv2D)             (None, 32, 28, 256)  590080      ['activation_11[0][0]']          \n",
      "                                                                                                  \n",
      " batch_normalization_15 (BatchN  (None, 32, 28, 256)  1024       ['conv2d_15[0][0]']              \n",
      " ormalization)                                                                                    \n",
      "                                                                                                  \n",
      " add_5 (Add)                    (None, 32, 28, 256)  0           ['batch_normalization_15[0][0]', \n",
      "                                                                  'activation_10[0][0]']          \n",
      "                                                                                                  \n",
      " activation_12 (Activation)     (None, 32, 28, 256)  0           ['add_5[0][0]']                  \n",
      "                                                                                                  \n",
      " conv2d_17 (Conv2D)             (None, 32, 28, 512)  1180160     ['activation_12[0][0]']          \n",
      "                                                                                                  \n",
      " batch_normalization_17 (BatchN  (None, 32, 28, 512)  2048       ['conv2d_17[0][0]']              \n",
      " ormalization)                                                                                    \n",
      "                                                                                                  \n",
      " activation_13 (Activation)     (None, 32, 28, 512)  0           ['batch_normalization_17[0][0]'] \n",
      "                                                                                                  \n",
      " conv2d_18 (Conv2D)             (None, 32, 28, 512)  2359808     ['activation_13[0][0]']          \n",
      "                                                                                                  \n",
      " conv2d_16 (Conv2D)             (None, 32, 28, 512)  131584      ['activation_12[0][0]']          \n",
      "                                                                                                  \n",
      " batch_normalization_18 (BatchN  (None, 32, 28, 512)  2048       ['conv2d_18[0][0]']              \n",
      " ormalization)                                                                                    \n",
      "                                                                                                  \n",
      " batch_normalization_16 (BatchN  (None, 32, 28, 512)  2048       ['conv2d_16[0][0]']              \n",
      " ormalization)                                                                                    \n",
      "                                                                                                  \n",
      " add_6 (Add)                    (None, 32, 28, 512)  0           ['batch_normalization_18[0][0]', \n",
      "                                                                  'batch_normalization_16[0][0]'] \n",
      "                                                                                                  \n",
      " activation_14 (Activation)     (None, 32, 28, 512)  0           ['add_6[0][0]']                  \n",
      "                                                                                                  \n",
      " conv2d_19 (Conv2D)             (None, 32, 28, 512)  2359808     ['activation_14[0][0]']          \n",
      "                                                                                                  \n",
      " batch_normalization_19 (BatchN  (None, 32, 28, 512)  2048       ['conv2d_19[0][0]']              \n",
      " ormalization)                                                                                    \n",
      "                                                                                                  \n",
      " activation_15 (Activation)     (None, 32, 28, 512)  0           ['batch_normalization_19[0][0]'] \n",
      "                                                                                                  \n",
      " conv2d_20 (Conv2D)             (None, 32, 28, 512)  2359808     ['activation_15[0][0]']          \n",
      "                                                                                                  \n",
      " batch_normalization_20 (BatchN  (None, 32, 28, 512)  2048       ['conv2d_20[0][0]']              \n",
      " ormalization)                                                                                    \n",
      "                                                                                                  \n",
      " add_7 (Add)                    (None, 32, 28, 512)  0           ['batch_normalization_20[0][0]', \n",
      "                                                                  'activation_14[0][0]']          \n",
      "                                                                                                  \n",
      " activation_16 (Activation)     (None, 32, 28, 512)  0           ['add_7[0][0]']                  \n",
      "                                                                                                  \n",
      " global_average_pooling2d (Glob  (None, 512)         0           ['activation_16[0][0]']          \n",
      " alAveragePooling2D)                                                                              \n",
      "                                                                                                  \n",
      " dense (Dense)                  (None, 2)            1026        ['global_average_pooling2d[0][0]'\n",
      "                                                                 ]                                \n",
      "                                                                                                  \n",
      "==================================================================================================\n",
      "Total params: 11,190,082\n",
      "Trainable params: 11,180,354\n",
      "Non-trainable params: 9,728\n",
      "__________________________________________________________________________________________________\n"
     ]
    }
   ],
   "source": [
    "# Display the model summary\n",
    "model.summary()"
   ]
  },
  {
   "cell_type": "code",
   "execution_count": 16,
   "metadata": {},
   "outputs": [],
   "source": [
    "# Train the model\n",
    "from sklearn.model_selection import train_test_split\n",
    "from sklearn.utils.class_weight import compute_class_weight\n",
    "\n",
    "# Split the data into training and testing sets\n",
    "X_train, X_test, y_train, y_test = train_test_split(\n",
    "    X_new, y, test_size=0.2, random_state=42\n",
    ")\n",
    "\n",
    "# Calculate class weights\n",
    "class_weights = compute_class_weight(class_weight='balanced', classes=np.unique(y_train), y=y_train)\n",
    "class_weights_dict = {i: w for i, w in zip(np.unique(y_train), class_weights)}"
   ]
  },
  {
   "cell_type": "code",
   "execution_count": 18,
   "metadata": {},
   "outputs": [
    {
     "name": "stderr",
     "output_type": "stream",
     "text": [
      "2023-11-23 12:46:39.057999: W tensorflow/core/framework/cpu_allocator_impl.cc:82] Allocation of 1133125632 exceeds 10% of free system memory.\n",
      "2023-11-23 12:46:39.923104: W tensorflow/core/framework/cpu_allocator_impl.cc:82] Allocation of 1133125632 exceeds 10% of free system memory.\n"
     ]
    },
    {
     "name": "stdout",
     "output_type": "stream",
     "text": [
      "Epoch 1/50\n"
     ]
    },
    {
     "name": "stderr",
     "output_type": "stream",
     "text": [
      "2023-11-23 12:46:42.076218: I tensorflow/stream_executor/cuda/cuda_dnn.cc:384] Loaded cuDNN version 8600\n",
      "2023-11-23 12:46:42.602900: I tensorflow/core/platform/default/subprocess.cc:304] Start cannot spawn child process: No such file or directory\n"
     ]
    },
    {
     "name": "stdout",
     "output_type": "stream",
     "text": [
      "635/635 [==============================] - ETA: 0s - loss: 0.3409 - accuracy: 0.8414"
     ]
    },
    {
     "name": "stderr",
     "output_type": "stream",
     "text": [
      "2023-11-23 12:47:37.149669: W tensorflow/core/framework/cpu_allocator_impl.cc:82] Allocation of 1386493952 exceeds 10% of free system memory.\n"
     ]
    },
    {
     "name": "stdout",
     "output_type": "stream",
     "text": [
      "635/635 [==============================] - 81s 122ms/step - loss: 0.3409 - accuracy: 0.8414 - val_loss: 0.9815 - val_accuracy: 0.8987\n",
      "Epoch 2/50\n",
      "635/635 [==============================] - 76s 119ms/step - loss: 0.2161 - accuracy: 0.9041 - val_loss: 0.7258 - val_accuracy: 0.7798\n",
      "Epoch 3/50\n",
      "635/635 [==============================] - 76s 120ms/step - loss: 0.1743 - accuracy: 0.9216 - val_loss: 7.0542 - val_accuracy: 0.5839\n",
      "Epoch 4/50\n",
      "635/635 [==============================] - 76s 120ms/step - loss: 0.1348 - accuracy: 0.9404 - val_loss: 60.4369 - val_accuracy: 0.1026\n",
      "Epoch 5/50\n",
      "635/635 [==============================] - 77s 121ms/step - loss: 0.1028 - accuracy: 0.9538 - val_loss: 0.1060 - val_accuracy: 0.9604\n",
      "Epoch 6/50\n",
      "635/635 [==============================] - 77s 121ms/step - loss: 0.0852 - accuracy: 0.9632 - val_loss: 11.7294 - val_accuracy: 0.5569\n",
      "Epoch 7/50\n",
      "635/635 [==============================] - 77s 121ms/step - loss: 0.0738 - accuracy: 0.9699 - val_loss: 1.7699 - val_accuracy: 0.6946\n",
      "Epoch 8/50\n",
      "635/635 [==============================] - 77s 121ms/step - loss: 0.0650 - accuracy: 0.9735 - val_loss: 0.7146 - val_accuracy: 0.8456\n",
      "Epoch 9/50\n",
      "635/635 [==============================] - 77s 121ms/step - loss: 0.0433 - accuracy: 0.9834 - val_loss: 3.3126 - val_accuracy: 0.8941\n",
      "Epoch 10/50\n",
      "635/635 [==============================] - 77s 121ms/step - loss: 0.0512 - accuracy: 0.9796 - val_loss: 0.1599 - val_accuracy: 0.9574\n",
      "Epoch 11/50\n",
      "635/635 [==============================] - 77s 121ms/step - loss: 0.0291 - accuracy: 0.9889 - val_loss: 0.9734 - val_accuracy: 0.8976\n",
      "Epoch 12/50\n",
      "635/635 [==============================] - 77s 121ms/step - loss: 0.0566 - accuracy: 0.9772 - val_loss: 2.9794 - val_accuracy: 0.4451\n",
      "Epoch 13/50\n",
      "635/635 [==============================] - 77s 121ms/step - loss: 0.0472 - accuracy: 0.9837 - val_loss: 1.5516 - val_accuracy: 0.8974\n",
      "Epoch 14/50\n",
      "635/635 [==============================] - 77s 121ms/step - loss: 0.0280 - accuracy: 0.9883 - val_loss: 0.6652 - val_accuracy: 0.8247\n",
      "Epoch 15/50\n",
      "635/635 [==============================] - 77s 121ms/step - loss: 0.0241 - accuracy: 0.9900 - val_loss: 0.0499 - val_accuracy: 0.9831\n",
      "Epoch 16/50\n",
      "635/635 [==============================] - 77s 121ms/step - loss: 0.0182 - accuracy: 0.9930 - val_loss: 0.0940 - val_accuracy: 0.9666\n",
      "Epoch 17/50\n",
      "635/635 [==============================] - 77s 121ms/step - loss: 0.0260 - accuracy: 0.9898 - val_loss: 0.2363 - val_accuracy: 0.9495\n",
      "Epoch 18/50\n",
      "635/635 [==============================] - 77s 121ms/step - loss: 0.0195 - accuracy: 0.9921 - val_loss: 4.1165 - val_accuracy: 0.8974\n",
      "Epoch 19/50\n",
      "635/635 [==============================] - 77s 121ms/step - loss: 0.0351 - accuracy: 0.9877 - val_loss: 0.0468 - val_accuracy: 0.9858\n",
      "Epoch 20/50\n",
      "635/635 [==============================] - 77s 121ms/step - loss: 0.0118 - accuracy: 0.9956 - val_loss: 0.0726 - val_accuracy: 0.9740\n",
      "Epoch 21/50\n",
      "635/635 [==============================] - 77s 121ms/step - loss: 0.0225 - accuracy: 0.9908 - val_loss: 0.4833 - val_accuracy: 0.9190\n",
      "Epoch 22/50\n",
      "635/635 [==============================] - 77s 121ms/step - loss: 0.0127 - accuracy: 0.9947 - val_loss: 6.4160 - val_accuracy: 0.4793\n",
      "Epoch 23/50\n",
      "635/635 [==============================] - 77s 121ms/step - loss: 0.0376 - accuracy: 0.9874 - val_loss: 0.0291 - val_accuracy: 0.9906\n",
      "Epoch 24/50\n",
      "635/635 [==============================] - 77s 121ms/step - loss: 0.0102 - accuracy: 0.9962 - val_loss: 0.0753 - val_accuracy: 0.9838\n",
      "Epoch 25/50\n",
      "635/635 [==============================] - 77s 121ms/step - loss: 0.0040 - accuracy: 0.9984 - val_loss: 0.2295 - val_accuracy: 0.9562\n",
      "Epoch 26/50\n",
      "635/635 [==============================] - 77s 121ms/step - loss: 0.0214 - accuracy: 0.9923 - val_loss: 0.0320 - val_accuracy: 0.9911\n",
      "Epoch 27/50\n",
      "635/635 [==============================] - 77s 121ms/step - loss: 0.0139 - accuracy: 0.9954 - val_loss: 0.0828 - val_accuracy: 0.9779\n",
      "Epoch 28/50\n",
      "635/635 [==============================] - 77s 121ms/step - loss: 0.0138 - accuracy: 0.9946 - val_loss: 1.0264 - val_accuracy: 0.7548\n",
      "Epoch 29/50\n",
      "635/635 [==============================] - 77s 121ms/step - loss: 0.0179 - accuracy: 0.9938 - val_loss: 0.0684 - val_accuracy: 0.9793\n",
      "Epoch 30/50\n",
      "635/635 [==============================] - 77s 121ms/step - loss: 0.0125 - accuracy: 0.9949 - val_loss: 0.1782 - val_accuracy: 0.9661\n",
      "Epoch 31/50\n",
      "635/635 [==============================] - 77s 121ms/step - loss: 0.0152 - accuracy: 0.9945 - val_loss: 5.6317 - val_accuracy: 0.8974\n",
      "Epoch 32/50\n",
      "635/635 [==============================] - 77s 121ms/step - loss: 0.0242 - accuracy: 0.9936 - val_loss: 0.0557 - val_accuracy: 0.9815\n",
      "Epoch 33/50\n",
      "635/635 [==============================] - 77s 121ms/step - loss: 0.0047 - accuracy: 0.9979 - val_loss: 0.0577 - val_accuracy: 0.9822\n"
     ]
    }
   ],
   "source": [
    "# Train the model with audio data augmentation\n",
    "NUM_EPOCHS = 50\n",
    "# BATCH_SIZE = 64\n",
    "history = model.fit(\n",
    "    X_train,\n",
    "    y_train,\n",
    "    epochs=NUM_EPOCHS,\n",
    "    validation_data=(eval_X_reshaped, eval_y),\n",
    "    class_weight = class_weights_dict,\n",
    "    callbacks=[early_stopping],\n",
    ")"
   ]
  },
  {
   "cell_type": "code",
   "execution_count": 19,
   "metadata": {},
   "outputs": [
    {
     "name": "stdout",
     "output_type": "stream",
     "text": [
      "  3/159 [..............................] - ETA: 5s - loss: 0.0421 - accuracy: 0.9792"
     ]
    },
    {
     "name": "stdout",
     "output_type": "stream",
     "text": [
      "159/159 [==============================] - 5s 32ms/step - loss: 0.0148 - accuracy: 0.9957\n",
      "Test Loss: 0.0148, Test Accuracy: 99.57%\n",
      "777/777 [==============================] - 24s 30ms/step - loss: 0.0291 - accuracy: 0.9906\n",
      "Evaluation Loss: 0.0291, Evaluation Accuracy: 99.06%\n"
     ]
    }
   ],
   "source": [
    "# Evaluate the model on the test set\n",
    "loss, accuracy = model.evaluate(X_test, y_test)\n",
    "print(f\"Test Loss: {loss:.4f}, Test Accuracy: {accuracy * 100:.2f}%\")\n",
    "\n",
    "# Evaluate the model on the separate evaluation dataset\n",
    "eval_loss, eval_accuracy = model.evaluate(eval_X_reshaped, eval_y)\n",
    "print(\n",
    "    f\"Evaluation Loss: {eval_loss:.4f}, Evaluation Accuracy: {eval_accuracy * 100:.2f}%\"\n",
    ")"
   ]
  },
  {
   "cell_type": "code",
   "execution_count": 20,
   "metadata": {},
   "outputs": [
    {
     "data": {
      "image/png": "[encoded data removed]",
      "text/plain": [
       "<Figure size 1000x500 with 1 Axes>"
      ]
     },
     "metadata": {},
     "output_type": "display_data"
    },
    {
     "data": {
      "image/png": "[encoded data removed]",
      "text/plain": [
       "<Figure size 1000x500 with 1 Axes>"
      ]
     },
     "metadata": {},
     "output_type": "display_data"
    }
   ],
   "source": [
    "import matplotlib.pyplot as plt\n",
    "\n",
    "# Plot training & validation loss values\n",
    "plt.figure(figsize=(10, 5))\n",
    "plt.plot(history.history[\"loss\"])\n",
    "plt.plot(history.history[\"val_loss\"])\n",
    "plt.title(\"Model loss\")\n",
    "plt.ylabel(\"Loss\")\n",
    "plt.xlabel(\"Epoch\")\n",
    "plt.legend([\"Train\", \"Validation\"], loc=\"upper right\")\n",
    "plt.show()\n",
    "\n",
    "# Plot training & validation accuracy values\n",
    "plt.figure(figsize=(10, 5))\n",
    "plt.plot(history.history[\"accuracy\"])\n",
    "plt.plot(history.history[\"val_accuracy\"])\n",
    "plt.title(\"Model accuracy\")\n",
    "plt.ylabel(\"Accuracy\")\n",
    "plt.xlabel(\"Epoch\")\n",
    "plt.legend([\"Train\", \"Validation\"], loc=\"lower right\")\n",
    "plt.show()"
   ]
  },
  {
   "cell_type": "code",
   "execution_count": 21,
   "metadata": {},
   "outputs": [
    {
     "ename": "",
     "evalue": "",
     "output_type": "error",
     "traceback": [
      "\u001b[1;31mThe Kernel crashed while executing code in the the current cell or a previous cell. Please review the code in the cell(s) to identify a possible cause of the failure. Click <a href='https://aka.ms/vscodeJupyterKernelCrash'>here</a> for more info. View Jupyter <a href='command:jupyter.viewOutput'>log</a> for further details."
     ]
    }
   ],
   "source": [
    "# Save the trained model\n",
    "model.save(\"models/basic_resnet_weighted_loss.h5\")"
   ]
  }
 ],
 "metadata": {
  "kernelspec": {
   "display_name": "ASV",
   "language": "python",
   "name": "python3"
  },
  "language_info": {
   "codemirror_mode": {
    "name": "ipython",
    "version": 3
   },
   "file_extension": ".py",
   "mimetype": "text/x-python",
   "name": "python",
   "nbconvert_exporter": "python",
   "pygments_lexer": "ipython3",
   "version": "3.9.18"
  }
 },
 "nbformat": 4,
 "nbformat_minor": 2
}
