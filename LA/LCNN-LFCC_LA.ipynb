{
 "cells": [
  {
   "cell_type": "code",
   "execution_count": 1,
   "metadata": {},
   "outputs": [],
   "source": [
    "import os\n",
    "import numpy as np\n",
    "import librosa\n",
    "import tensorflow as tf\n",
    "from tensorflow.keras.initializers import GlorotUniform\n",
    "from tensorflow.keras import regularizers\n",
    "from tensorflow.keras.models import Model, Sequential\n",
    "from tensorflow.keras.layers import MaxPooling2D, Dropout, Activation, TimeDistributed\n",
    "from tensorflow.keras.layers import BatchNormalization  # Updated import\n",
    "\n",
    "from tensorflow.keras.layers import Dense, Input\n",
    "from tensorflow.keras.layers import Conv2D, Flatten, Lambda \n",
    "from tensorflow.keras.layers import LeakyReLU\n",
    "\n",
    "import numpy as np\n",
    "from sklearn.model_selection import train_test_split\n",
    "\n",
    "# Update to TensorFlow 2.x syntax\n",
    "import keras\n",
    "from tensorflow.keras.layers import Layer\n",
    "from tensorflow.keras import backend as K\n",
    "\n",
    "# Change the import for GlobalAveragePooling1D to GlobalAveragePooling2D\n",
    "from tensorflow.keras.layers import GlobalAveragePooling2D"
   ]
  },
  {
   "cell_type": "code",
   "execution_count": 2,
   "metadata": {},
   "outputs": [],
   "source": [
    "# Set your file paths and constants\n",
    "TRAINING_LABEL = \"/data/common_source/datasets/asvpoof-2019-dataset/LA/LA/ASVspoof2019_LA_cm_protocols/ASVspoof2019.LA.cm.train.trn.txt\"\n",
    "TRAINING_DATA = (\n",
    "    \"/data/common_source/datasets/asvpoof-2019-dataset/LA/LA/ASVspoof2019_LA_train/flac\"\n",
    ")\n",
    "VALIDATION_DATA = (\n",
    "    \"/data/common_source/datasets/asvpoof-2019-dataset/LA/LA/ASVspoof2019_LA_dev/flac\"\n",
    ")\n",
    "VALIDATION_LABEL = \"/data/common_source/datasets/asvpoof-2019-dataset/LA/LA/ASVspoof2019_LA_cm_protocols/ASVspoof2019.LA.cm.dev.trl.txt\"\n",
    "SAMPLE_RATE = 16000  # Adjust if your sample rate is different\n",
    "DURATION = 3  # Adjust the duration of your audio samples\n",
    "N_MFCC = 128  # Adjust the number of mel filters\n",
    "max_time_steps = 300"
   ]
  },
  {
   "cell_type": "code",
   "execution_count": 3,
   "metadata": {},
   "outputs": [],
   "source": [
    "def load_and_preprocess_audio(file_path,n_fft=512, hop_length=160, win_length=512,max_length=300):\n",
    "    ''' Given an audio signal, computes power (or log power) spectrogram '''\n",
    "    # Load the audio signal\n",
    "    y, _ = librosa.load(file_path,sr=16000)\n",
    "\n",
    "    # Compute the short-time Fourier transform (STFT)\n",
    "    D = np.abs(librosa.stft(y=y, n_fft=n_fft, hop_length=hop_length, win_length=win_length))**2\n",
    "\n",
    "    # Ensure the spectrogram is not all zeros\n",
    "    D = np.maximum(D, 1e-5)\n",
    "\n",
    "    # Take the logarithm\n",
    "    D = np.log(D)\n",
    "\n",
    "    # Ensure that the LFCC arrays have the same shape\n",
    "    if D.shape[1] < max_length:\n",
    "        # If shorter, pad with zeros\n",
    "        pad_width = ((0, 0), (0, max_length - D.shape[1]))\n",
    "        D = np.pad(D, pad_width, mode='constant', constant_values=0)\n",
    "    elif D.shape[1] > max_length:\n",
    "        # If longer, truncate\n",
    "        D = D[:, :max_length]\n",
    "\n",
    "    return D.T"
   ]
  },
  {
   "cell_type": "code",
   "execution_count": 4,
   "metadata": {},
   "outputs": [
    {
     "name": "stdout",
     "output_type": "stream",
     "text": [
      "(300, 257)\n",
      "(300, 257)\n"
     ]
    }
   ],
   "source": [
    "file_path1 = \"/data/common_source/datasets/asvpoof-2019-dataset/PA/PA/ASVspoof2019_PA_train/flac/PA_T_0023581.flac\"\n",
    "file_path2 = \"/data/common_source/datasets/asvpoof-2019-dataset/PA/PA/ASVspoof2019_PA_train/flac/PA_T_0030329.flac\"\n",
    "\n",
    "lfcc1 = load_and_preprocess_audio(file_path1)\n",
    "lfcc2 = load_and_preprocess_audio(file_path2)\n",
    "\n",
    "print(lfcc1.shape)\n",
    "print(lfcc2.shape)"
   ]
  },
  {
   "cell_type": "code",
   "execution_count": 5,
   "metadata": {},
   "outputs": [
    {
     "name": "stdout",
     "output_type": "stream",
     "text": [
      "Duration: 4.31 seconds\n"
     ]
    }
   ],
   "source": [
    "from pydub import AudioSegment\n",
    "def get_duration_pydub(file_path):\n",
    "   audio_file = AudioSegment.from_file(file_path)\n",
    "   duration = audio_file.duration_seconds\n",
    "   return duration\n",
    "file_path = '/data/common_source/datasets/asvpoof-2019-dataset/PA/PA/ASVspoof2019_PA_train/flac/PA_T_0023581.flac'\n",
    "duration = get_duration_pydub(file_path)\n",
    "print(f\"Duration: {duration:.2f} seconds\")"
   ]
  },
  {
   "cell_type": "code",
   "execution_count": 5,
   "metadata": {},
   "outputs": [],
   "source": [
    "# Load labels for training Data\n",
    "train_labels = {}\n",
    "\n",
    "with open(TRAINING_LABEL, 'r') as label_file:\n",
    "    lines = label_file.readlines()\n",
    "\n",
    "for line in lines:\n",
    "    parts = line.strip().split()\n",
    "    file_name = parts[1]\n",
    "    label = 1 if parts[-1] == \"bonafide\" else 0\n",
    "    train_labels[file_name] = label\n",
    "\n",
    "X = []\n",
    "y = []\n",
    "\n",
    "for file_name, label in train_labels.items():\n",
    "    file_path = os.path.join(TRAINING_DATA, file_name + \".flac\")\n",
    "\n",
    "    # Use the preprocess_data function with max_length\n",
    "    mel_spectrogram = load_and_preprocess_audio(file_path)\n",
    "\n",
    "    X.append(mel_spectrogram)\n",
    "    y.append(label)\n",
    "\n",
    "X = np.array(X)\n",
    "y = np.array(y)\n"
   ]
  },
  {
   "cell_type": "code",
   "execution_count": 6,
   "metadata": {},
   "outputs": [
    {
     "name": "stdout",
     "output_type": "stream",
     "text": [
      "Shape of X before reshape: (25380, 300, 257)\n",
      "Shape of y before reshape: (25380,)\n",
      "Shape of X after reshape: (25380, 300, 257, 1)\n"
     ]
    }
   ],
   "source": [
    "# Print out the shapes for debugging\n",
    "print(\"Shape of X before reshape:\", X.shape)\n",
    "print(\"Shape of y before reshape:\", y.shape)\n",
    "\n",
    "X_reshaped = X.reshape(X.shape[0], X.shape[1], X.shape[2], 1)\n",
    "\n",
    "print(\"Shape of X after reshape:\", X_reshaped.shape)"
   ]
  },
  {
   "cell_type": "code",
   "execution_count": 7,
   "metadata": {},
   "outputs": [],
   "source": [
    "# Load labels for evaluation Data\n",
    "eval_X = []\n",
    "eval_y = []\n",
    "\n",
    "with open(VALIDATION_LABEL, 'r') as eval_label_file:\n",
    "    eval_lines = eval_label_file.readlines()\n",
    "\n",
    "eval_labels = {}\n",
    "\n",
    "for line in eval_lines:\n",
    "    parts = line.strip().split()\n",
    "    file_name = parts[1]\n",
    "    label = 1 if parts[-1] == \"bonafide\" else 0\n",
    "    eval_labels[file_name] = label\n",
    "\n",
    "for file_name, label in eval_labels.items():\n",
    "    file_path = os.path.join(VALIDATION_DATA, file_name + \".flac\")\n",
    "\n",
    "        # Use the preprocess_data function\n",
    "    mel_spectrogram = load_and_preprocess_audio(file_path)\n",
    "\n",
    "    eval_X.append(mel_spectrogram)\n",
    "    eval_y.append(label)\n",
    "\n",
    "\n",
    "eval_X = np.array(eval_X)\n",
    "eval_y = np.array(eval_y)\n"
   ]
  },
  {
   "cell_type": "code",
   "execution_count": 8,
   "metadata": {},
   "outputs": [
    {
     "name": "stdout",
     "output_type": "stream",
     "text": [
      "Shape of eval_X before reshape: (24844, 300, 257)\n",
      "Shape of eval_y before reshape: (24844,)\n",
      "Shape of X after reshape: (24844, 300, 257, 1)\n"
     ]
    }
   ],
   "source": [
    "# Print out the shapes for debugging\n",
    "print(\"Shape of eval_X before reshape:\", eval_X.shape)\n",
    "print(\"Shape of eval_y before reshape:\", eval_y.shape)\n",
    "\n",
    "eval_X_reshaped = eval_X.reshape(eval_X.shape[0], eval_X.shape[1], eval_X.shape[2], 1)\n",
    "\n",
    "print(\"Shape of X after reshape:\", eval_X_reshaped.shape)"
   ]
  },
  {
   "cell_type": "code",
   "execution_count": 9,
   "metadata": {},
   "outputs": [],
   "source": [
    "def init_weights():\n",
    "    initializer = GlorotUniform()\n",
    "    return initializer"
   ]
  },
  {
   "cell_type": "code",
   "execution_count": 10,
   "metadata": {},
   "outputs": [],
   "source": [
    "def apply_activation(x):\n",
    "    y = BatchNormalization()(x)\n",
    "    y = Activation('relu')(y)\n",
    "    return x"
   ]
  },
  {
   "cell_type": "code",
   "execution_count": 11,
   "metadata": {},
   "outputs": [],
   "source": [
    "# Define constants\n",
    "input_shape = (X.shape[1], X.shape[2], 1)   # LFCC features have 13 dimensions\n",
    "\n",
    "def lcnn_model(input_shape):\n",
    "    x = Sequential()\n",
    "\n",
    "    # Convolutional layers\n",
    "    inputs = Input(shape=input_shape)\n",
    "\n",
    "    x = Conv2D(16, (5, 5), padding='same', kernel_initializer=init_weights())(inputs)\n",
    "    x = MaxPooling2D(pool_size=(2,2))(x)\n",
    "\n",
    "    x = Conv2D(16, (1, 1), padding='same', kernel_initializer=init_weights())(x)\n",
    "    x = apply_activation(x)\n",
    "    x = Conv2D(24, (3, 3), padding='same', kernel_initializer=init_weights())(x)\n",
    "    x = apply_activation(x)\n",
    "    x = MaxPooling2D(pool_size=(2,2))(x)\n",
    "\n",
    "    x = Conv2D(32, (1, 1), padding='same', kernel_initializer=init_weights())(x)\n",
    "    x = apply_activation(x)\n",
    "    x = Conv2D(32, (3, 3), padding='same', kernel_initializer=init_weights())(x)\n",
    "    x = apply_activation(x)\n",
    "    x = MaxPooling2D(pool_size=(2,2))(x)\n",
    "\n",
    "    x = Conv2D(32, (1, 1), padding='same', kernel_initializer=init_weights())(x)\n",
    "    x = apply_activation(x)\n",
    "    x = Conv2D(16, (3, 3), padding='same', kernel_initializer=init_weights())(x)\n",
    "    x = apply_activation(x)\n",
    "    x = MaxPooling2D(pool_size=(2,2))(x)\n",
    "\n",
    "\n",
    "    x = Conv2D(16, (1, 1), padding='same', kernel_initializer=init_weights())(x)\n",
    "    x = apply_activation(x)\n",
    "    x = Conv2D(16, (3, 3), padding='same', kernel_initializer=init_weights())(x)\n",
    "    x = apply_activation(x)\n",
    "    x = MaxPooling2D(pool_size=(2,2))(x)\n",
    "\n",
    "    x = Flatten()(x)\n",
    "    x = Dropout(0.5)(x)\n",
    "    x = Dense(32, kernel_initializer=init_weights())(x)\n",
    "    x = apply_activation(x)\n",
    "\n",
    "    x = Dropout(0.5)(x)\n",
    "    x = Dense(1,kernel_initializer=init_weights())(x)\n",
    "    x = BatchNormalization()(x)\n",
    "    x = Activation('sigmoid')(x)\n",
    "\n",
    "    model = Model(inputs=inputs, outputs=x)\n",
    "    return model"
   ]
  },
  {
   "cell_type": "code",
   "execution_count": 12,
   "metadata": {},
   "outputs": [
    {
     "name": "stderr",
     "output_type": "stream",
     "text": [
      "2023-11-28 16:31:21.156252: I tensorflow/core/platform/cpu_feature_guard.cc:193] This TensorFlow binary is optimized with oneAPI Deep Neural Network Library (oneDNN) to use the following CPU instructions in performance-critical operations:  AVX2 AVX512F FMA\n",
      "To enable them in other operations, rebuild TensorFlow with the appropriate compiler flags.\n",
      "2023-11-28 16:31:21.948315: I tensorflow/core/common_runtime/gpu/gpu_device.cc:1532] Created device /job:localhost/replica:0/task:0/device:GPU:0 with 22834 MB memory:  -> device: 0, name: NVIDIA TITAN RTX, pci bus id: 0000:1a:00.0, compute capability: 7.5\n",
      "2023-11-28 16:31:21.949007: I tensorflow/core/common_runtime/gpu/gpu_device.cc:1532] Created device /job:localhost/replica:0/task:0/device:GPU:1 with 22758 MB memory:  -> device: 1, name: NVIDIA TITAN RTX, pci bus id: 0000:68:00.0, compute capability: 7.5\n"
     ]
    }
   ],
   "source": [
    "model = lcnn_model(input_shape)\n",
    "\n",
    "# Compile the model\n",
    "model.compile(optimizer='adam', loss='binary_crossentropy', metrics=['accuracy'])"
   ]
  },
  {
   "cell_type": "code",
   "execution_count": 13,
   "metadata": {},
   "outputs": [
    {
     "name": "stdout",
     "output_type": "stream",
     "text": [
      "Model: \"model\"\n",
      "_________________________________________________________________\n",
      " Layer (type)                Output Shape              Param #   \n",
      "=================================================================\n",
      " input_1 (InputLayer)        [(None, 300, 257, 1)]     0         \n",
      "                                                                 \n",
      " conv2d (Conv2D)             (None, 300, 257, 16)      416       \n",
      "                                                                 \n",
      " max_pooling2d (MaxPooling2D  (None, 150, 128, 16)     0         \n",
      " )                                                               \n",
      "                                                                 \n",
      " conv2d_1 (Conv2D)           (None, 150, 128, 16)      272       \n",
      "                                                                 \n",
      " conv2d_2 (Conv2D)           (None, 150, 128, 24)      3480      \n",
      "                                                                 \n",
      " max_pooling2d_1 (MaxPooling  (None, 75, 64, 24)       0         \n",
      " 2D)                                                             \n",
      "                                                                 \n",
      " conv2d_3 (Conv2D)           (None, 75, 64, 32)        800       \n",
      "                                                                 \n",
      " conv2d_4 (Conv2D)           (None, 75, 64, 32)        9248      \n",
      "                                                                 \n",
      " max_pooling2d_2 (MaxPooling  (None, 37, 32, 32)       0         \n",
      " 2D)                                                             \n",
      "                                                                 \n",
      " conv2d_5 (Conv2D)           (None, 37, 32, 32)        1056      \n",
      "                                                                 \n",
      " conv2d_6 (Conv2D)           (None, 37, 32, 16)        4624      \n",
      "                                                                 \n",
      " max_pooling2d_3 (MaxPooling  (None, 18, 16, 16)       0         \n",
      " 2D)                                                             \n",
      "                                                                 \n",
      " conv2d_7 (Conv2D)           (None, 18, 16, 16)        272       \n",
      "                                                                 \n",
      " conv2d_8 (Conv2D)           (None, 18, 16, 16)        2320      \n",
      "                                                                 \n",
      " max_pooling2d_4 (MaxPooling  (None, 9, 8, 16)         0         \n",
      " 2D)                                                             \n",
      "                                                                 \n",
      " flatten (Flatten)           (None, 1152)              0         \n",
      "                                                                 \n",
      " dropout (Dropout)           (None, 1152)              0         \n",
      "                                                                 \n",
      " dense (Dense)               (None, 32)                36896     \n",
      "                                                                 \n",
      " dropout_1 (Dropout)         (None, 32)                0         \n",
      "                                                                 \n",
      " dense_1 (Dense)             (None, 1)                 33        \n",
      "                                                                 \n",
      " batch_normalization_9 (Batc  (None, 1)                4         \n",
      " hNormalization)                                                 \n",
      "                                                                 \n",
      " activation_9 (Activation)   (None, 1)                 0         \n",
      "                                                                 \n",
      "=================================================================\n",
      "Total params: 59,421\n",
      "Trainable params: 59,419\n",
      "Non-trainable params: 2\n",
      "_________________________________________________________________\n"
     ]
    }
   ],
   "source": [
    "# Display the model summary\n",
    "model.summary()"
   ]
  },
  {
   "cell_type": "code",
   "execution_count": 14,
   "metadata": {},
   "outputs": [],
   "source": [
    "from tensorflow.keras.callbacks import ModelCheckpoint\n",
    "\n",
    "# Split the data into training and validation sets\n",
    "X_train, X_val, y_train, y_val = train_test_split(X_reshaped, y, test_size=0.2, random_state=42)\n",
    "\n",
    "# Define a model checkpoint to save the best weights during training\n",
    "checkpoint = ModelCheckpoint('models/LCNN_LFCC_LA.h5', monitor='val_loss', save_best_only=True)"
   ]
  },
  {
   "cell_type": "code",
   "execution_count": 15,
   "metadata": {},
   "outputs": [
    {
     "name": "stderr",
     "output_type": "stream",
     "text": [
      "2023-11-28 16:31:38.690385: W tensorflow/core/framework/cpu_allocator_impl.cc:82] Allocation of 6261753600 exceeds 10% of free system memory.\n",
      "2023-11-28 16:31:43.073526: W tensorflow/core/framework/cpu_allocator_impl.cc:82] Allocation of 6261753600 exceeds 10% of free system memory.\n"
     ]
    },
    {
     "name": "stdout",
     "output_type": "stream",
     "text": [
      "Epoch 1/100\n"
     ]
    },
    {
     "name": "stderr",
     "output_type": "stream",
     "text": [
      "2023-11-28 16:31:47.935889: I tensorflow/stream_executor/cuda/cuda_dnn.cc:384] Loaded cuDNN version 8600\n",
      "2023-11-28 16:31:48.455061: I tensorflow/core/platform/default/subprocess.cc:304] Start cannot spawn child process: No such file or directory\n"
     ]
    },
    {
     "name": "stdout",
     "output_type": "stream",
     "text": [
      "635/635 [==============================] - ETA: 0s - loss: 0.5395 - accuracy: 0.7735"
     ]
    },
    {
     "name": "stderr",
     "output_type": "stream",
     "text": [
      "2023-11-28 16:32:01.141020: W tensorflow/core/framework/cpu_allocator_impl.cc:82] Allocation of 7661889600 exceeds 10% of free system memory.\n",
      "2023-11-28 16:32:06.554120: W tensorflow/core/framework/cpu_allocator_impl.cc:82] Allocation of 7661889600 exceeds 10% of free system memory.\n"
     ]
    },
    {
     "name": "stdout",
     "output_type": "stream",
     "text": [
      "635/635 [==============================] - 31s 46ms/step - loss: 0.5395 - accuracy: 0.7735 - val_loss: 0.3764 - val_accuracy: 0.9736\n",
      "Epoch 2/100\n",
      "635/635 [==============================] - 19s 30ms/step - loss: 0.3071 - accuracy: 0.9628 - val_loss: 0.1470 - val_accuracy: 0.9965\n",
      "Epoch 3/100\n",
      "635/635 [==============================] - 19s 30ms/step - loss: 0.2098 - accuracy: 0.9812 - val_loss: 0.1576 - val_accuracy: 0.9986\n",
      "Epoch 4/100\n",
      "635/635 [==============================] - 19s 30ms/step - loss: 0.1517 - accuracy: 0.9870 - val_loss: 0.0850 - val_accuracy: 0.9867\n",
      "Epoch 5/100\n",
      "635/635 [==============================] - 19s 30ms/step - loss: 0.1200 - accuracy: 0.9882 - val_loss: 0.0725 - val_accuracy: 0.9935\n",
      "Epoch 6/100\n",
      "635/635 [==============================] - 19s 30ms/step - loss: 0.0926 - accuracy: 0.9907 - val_loss: 0.0651 - val_accuracy: 0.9994\n",
      "Epoch 7/100\n",
      "635/635 [==============================] - 19s 30ms/step - loss: 0.0748 - accuracy: 0.9926 - val_loss: 0.0638 - val_accuracy: 0.9990\n",
      "Epoch 8/100\n",
      "635/635 [==============================] - 19s 30ms/step - loss: 0.0637 - accuracy: 0.9924 - val_loss: 0.0388 - val_accuracy: 0.9990\n",
      "Epoch 9/100\n",
      "635/635 [==============================] - 19s 30ms/step - loss: 0.0547 - accuracy: 0.9931 - val_loss: 0.0351 - val_accuracy: 0.9968\n",
      "Epoch 10/100\n",
      "635/635 [==============================] - 19s 30ms/step - loss: 0.0490 - accuracy: 0.9928 - val_loss: 0.0337 - val_accuracy: 0.9976\n",
      "Epoch 11/100\n",
      "635/635 [==============================] - 19s 30ms/step - loss: 0.0445 - accuracy: 0.9929 - val_loss: 0.0464 - val_accuracy: 0.9916\n",
      "Epoch 12/100\n",
      "635/635 [==============================] - 19s 30ms/step - loss: 0.0397 - accuracy: 0.9932 - val_loss: 0.0208 - val_accuracy: 0.9977\n",
      "Epoch 13/100\n",
      "635/635 [==============================] - 19s 30ms/step - loss: 0.0376 - accuracy: 0.9929 - val_loss: 0.0423 - val_accuracy: 0.9969\n",
      "Epoch 14/100\n",
      "635/635 [==============================] - 19s 30ms/step - loss: 0.0348 - accuracy: 0.9937 - val_loss: 0.0150 - val_accuracy: 0.9996\n",
      "Epoch 15/100\n",
      "635/635 [==============================] - 19s 30ms/step - loss: 0.0342 - accuracy: 0.9932 - val_loss: 0.0175 - val_accuracy: 0.9993\n",
      "Epoch 16/100\n",
      "635/635 [==============================] - 19s 30ms/step - loss: 0.0319 - accuracy: 0.9941 - val_loss: 0.0233 - val_accuracy: 0.9926\n",
      "Epoch 17/100\n",
      "635/635 [==============================] - 19s 30ms/step - loss: 0.0263 - accuracy: 0.9953 - val_loss: 0.0174 - val_accuracy: 0.9983\n",
      "Epoch 18/100\n",
      "635/635 [==============================] - 19s 30ms/step - loss: 0.0306 - accuracy: 0.9931 - val_loss: 0.0111 - val_accuracy: 0.9989\n",
      "Epoch 19/100\n",
      "635/635 [==============================] - 19s 30ms/step - loss: 0.0252 - accuracy: 0.9947 - val_loss: 0.0222 - val_accuracy: 0.9969\n",
      "Epoch 20/100\n",
      "635/635 [==============================] - 19s 30ms/step - loss: 0.0246 - accuracy: 0.9954 - val_loss: 0.0115 - val_accuracy: 0.9972\n",
      "Epoch 21/100\n",
      "635/635 [==============================] - 19s 30ms/step - loss: 0.0236 - accuracy: 0.9950 - val_loss: 0.0129 - val_accuracy: 0.9995\n",
      "Epoch 22/100\n",
      "635/635 [==============================] - 19s 30ms/step - loss: 0.0266 - accuracy: 0.9937 - val_loss: 0.0139 - val_accuracy: 0.9969\n",
      "Epoch 23/100\n",
      "635/635 [==============================] - 19s 30ms/step - loss: 0.0269 - accuracy: 0.9935 - val_loss: 0.0172 - val_accuracy: 0.9976\n",
      "Epoch 24/100\n",
      "635/635 [==============================] - 19s 30ms/step - loss: 0.0257 - accuracy: 0.9936 - val_loss: 0.0146 - val_accuracy: 0.9974\n",
      "Epoch 25/100\n",
      "635/635 [==============================] - 19s 30ms/step - loss: 0.0250 - accuracy: 0.9939 - val_loss: 0.0269 - val_accuracy: 0.9909\n",
      "Epoch 26/100\n",
      "635/635 [==============================] - 19s 30ms/step - loss: 0.0228 - accuracy: 0.9946 - val_loss: 0.0209 - val_accuracy: 0.9929\n",
      "Epoch 27/100\n",
      "635/635 [==============================] - 19s 30ms/step - loss: 0.0243 - accuracy: 0.9948 - val_loss: 0.0088 - val_accuracy: 0.9995\n",
      "Epoch 28/100\n",
      "635/635 [==============================] - 19s 30ms/step - loss: 0.0239 - accuracy: 0.9941 - val_loss: 0.0153 - val_accuracy: 0.9976\n",
      "Epoch 29/100\n",
      "635/635 [==============================] - 19s 30ms/step - loss: 0.0212 - accuracy: 0.9946 - val_loss: 0.0095 - val_accuracy: 0.9992\n",
      "Epoch 30/100\n",
      "635/635 [==============================] - 19s 30ms/step - loss: 0.0205 - accuracy: 0.9944 - val_loss: 0.0101 - val_accuracy: 0.9979\n",
      "Epoch 31/100\n",
      "635/635 [==============================] - 19s 30ms/step - loss: 0.0209 - accuracy: 0.9949 - val_loss: 0.0071 - val_accuracy: 0.9991\n",
      "Epoch 32/100\n",
      "635/635 [==============================] - 19s 30ms/step - loss: 0.0191 - accuracy: 0.9953 - val_loss: 0.0204 - val_accuracy: 0.9922\n",
      "Epoch 33/100\n",
      "635/635 [==============================] - 19s 30ms/step - loss: 0.0212 - accuracy: 0.9948 - val_loss: 0.0053 - val_accuracy: 0.9995\n",
      "Epoch 34/100\n",
      "635/635 [==============================] - 19s 30ms/step - loss: 0.0173 - accuracy: 0.9958 - val_loss: 0.0089 - val_accuracy: 0.9979\n",
      "Epoch 35/100\n",
      "635/635 [==============================] - 19s 30ms/step - loss: 0.0169 - accuracy: 0.9961 - val_loss: 0.0083 - val_accuracy: 0.9981\n",
      "Epoch 36/100\n",
      "635/635 [==============================] - 19s 30ms/step - loss: 0.0191 - accuracy: 0.9956 - val_loss: 0.0071 - val_accuracy: 0.9988\n",
      "Epoch 37/100\n",
      "635/635 [==============================] - 19s 30ms/step - loss: 0.0184 - accuracy: 0.9950 - val_loss: 0.0084 - val_accuracy: 0.9995\n",
      "Epoch 38/100\n",
      "635/635 [==============================] - 19s 30ms/step - loss: 0.0218 - accuracy: 0.9944 - val_loss: 0.0094 - val_accuracy: 0.9987\n",
      "Epoch 39/100\n",
      "635/635 [==============================] - 19s 30ms/step - loss: 0.0180 - accuracy: 0.9957 - val_loss: 0.0065 - val_accuracy: 0.9997\n",
      "Epoch 40/100\n",
      "635/635 [==============================] - 19s 30ms/step - loss: 0.0189 - accuracy: 0.9953 - val_loss: 0.0196 - val_accuracy: 0.9936\n",
      "Epoch 41/100\n",
      "635/635 [==============================] - 19s 30ms/step - loss: 0.0181 - accuracy: 0.9953 - val_loss: 0.0426 - val_accuracy: 0.9814\n",
      "Epoch 42/100\n",
      "635/635 [==============================] - 19s 30ms/step - loss: 0.0190 - accuracy: 0.9956 - val_loss: 0.0140 - val_accuracy: 0.9953\n",
      "Epoch 43/100\n",
      "635/635 [==============================] - 19s 30ms/step - loss: 0.0174 - accuracy: 0.9952 - val_loss: 0.0036 - val_accuracy: 0.9992\n",
      "Epoch 44/100\n",
      "635/635 [==============================] - 19s 30ms/step - loss: 0.0147 - accuracy: 0.9964 - val_loss: 0.0088 - val_accuracy: 0.9996\n",
      "Epoch 45/100\n",
      "635/635 [==============================] - 19s 30ms/step - loss: 0.0174 - accuracy: 0.9957 - val_loss: 0.0043 - val_accuracy: 0.9996\n",
      "Epoch 46/100\n",
      "635/635 [==============================] - 19s 30ms/step - loss: 0.0137 - accuracy: 0.9969 - val_loss: 0.0216 - val_accuracy: 0.9924\n",
      "Epoch 47/100\n",
      "635/635 [==============================] - 19s 30ms/step - loss: 0.0184 - accuracy: 0.9958 - val_loss: 0.0038 - val_accuracy: 0.9992\n",
      "Epoch 48/100\n",
      "635/635 [==============================] - 19s 30ms/step - loss: 0.0169 - accuracy: 0.9956 - val_loss: 0.0053 - val_accuracy: 0.9989\n",
      "Epoch 49/100\n",
      "635/635 [==============================] - 19s 30ms/step - loss: 0.0160 - accuracy: 0.9964 - val_loss: 0.0048 - val_accuracy: 0.9999\n",
      "Epoch 50/100\n",
      "635/635 [==============================] - 19s 30ms/step - loss: 0.0157 - accuracy: 0.9960 - val_loss: 0.0066 - val_accuracy: 0.9986\n",
      "Epoch 51/100\n",
      "635/635 [==============================] - 19s 30ms/step - loss: 0.0158 - accuracy: 0.9960 - val_loss: 0.0078 - val_accuracy: 0.9984\n",
      "Epoch 52/100\n",
      "635/635 [==============================] - 19s 30ms/step - loss: 0.0137 - accuracy: 0.9968 - val_loss: 0.0052 - val_accuracy: 0.9988\n",
      "Epoch 53/100\n",
      "635/635 [==============================] - 19s 30ms/step - loss: 0.0123 - accuracy: 0.9971 - val_loss: 0.0050 - val_accuracy: 0.9991\n",
      "Epoch 54/100\n",
      "635/635 [==============================] - 19s 30ms/step - loss: 0.0138 - accuracy: 0.9967 - val_loss: 0.0088 - val_accuracy: 0.9993\n",
      "Epoch 55/100\n",
      "635/635 [==============================] - 19s 30ms/step - loss: 0.0140 - accuracy: 0.9973 - val_loss: 0.0071 - val_accuracy: 0.9996\n",
      "Epoch 56/100\n",
      "635/635 [==============================] - 19s 30ms/step - loss: 0.0123 - accuracy: 0.9966 - val_loss: 0.0035 - val_accuracy: 0.9998\n",
      "Epoch 57/100\n",
      "635/635 [==============================] - 19s 30ms/step - loss: 0.0150 - accuracy: 0.9959 - val_loss: 0.0053 - val_accuracy: 0.9994\n",
      "Epoch 58/100\n",
      "635/635 [==============================] - 19s 30ms/step - loss: 0.0131 - accuracy: 0.9967 - val_loss: 0.0049 - val_accuracy: 0.9997\n",
      "Epoch 59/100\n",
      "635/635 [==============================] - 19s 30ms/step - loss: 0.0141 - accuracy: 0.9964 - val_loss: 0.0143 - val_accuracy: 0.9955\n",
      "Epoch 60/100\n",
      "635/635 [==============================] - 19s 30ms/step - loss: 0.0170 - accuracy: 0.9952 - val_loss: 0.0103 - val_accuracy: 0.9973\n",
      "Epoch 61/100\n",
      "635/635 [==============================] - 19s 30ms/step - loss: 0.0139 - accuracy: 0.9964 - val_loss: 0.0046 - val_accuracy: 0.9994\n",
      "Epoch 62/100\n",
      "635/635 [==============================] - 19s 30ms/step - loss: 0.0115 - accuracy: 0.9975 - val_loss: 0.0050 - val_accuracy: 0.9991\n",
      "Epoch 63/100\n",
      "635/635 [==============================] - 19s 30ms/step - loss: 0.0121 - accuracy: 0.9971 - val_loss: 0.0030 - val_accuracy: 0.9995\n",
      "Epoch 64/100\n",
      "635/635 [==============================] - 19s 30ms/step - loss: 0.0121 - accuracy: 0.9969 - val_loss: 0.0048 - val_accuracy: 0.9991\n",
      "Epoch 65/100\n",
      "635/635 [==============================] - 19s 30ms/step - loss: 0.0138 - accuracy: 0.9965 - val_loss: 0.0041 - val_accuracy: 0.9997\n",
      "Epoch 66/100\n",
      "635/635 [==============================] - 19s 30ms/step - loss: 0.0129 - accuracy: 0.9967 - val_loss: 0.0028 - val_accuracy: 0.9997\n",
      "Epoch 67/100\n",
      "635/635 [==============================] - 19s 30ms/step - loss: 0.0120 - accuracy: 0.9972 - val_loss: 0.0035 - val_accuracy: 0.9994\n",
      "Epoch 68/100\n",
      "635/635 [==============================] - 19s 30ms/step - loss: 0.0105 - accuracy: 0.9972 - val_loss: 0.0064 - val_accuracy: 0.9981\n",
      "Epoch 69/100\n",
      "635/635 [==============================] - 19s 30ms/step - loss: 0.0142 - accuracy: 0.9966 - val_loss: 0.0120 - val_accuracy: 0.9968\n",
      "Epoch 70/100\n",
      "635/635 [==============================] - 19s 30ms/step - loss: 0.0116 - accuracy: 0.9971 - val_loss: 0.0027 - val_accuracy: 0.9996\n",
      "Epoch 71/100\n",
      "635/635 [==============================] - 19s 30ms/step - loss: 0.0110 - accuracy: 0.9977 - val_loss: 0.0039 - val_accuracy: 0.9997\n",
      "Epoch 72/100\n",
      "635/635 [==============================] - 19s 30ms/step - loss: 0.0109 - accuracy: 0.9976 - val_loss: 0.0029 - val_accuracy: 0.9995\n",
      "Epoch 73/100\n",
      "635/635 [==============================] - 19s 30ms/step - loss: 0.0114 - accuracy: 0.9971 - val_loss: 0.0174 - val_accuracy: 0.9936\n",
      "Epoch 74/100\n",
      "635/635 [==============================] - 19s 30ms/step - loss: 0.0102 - accuracy: 0.9976 - val_loss: 0.0049 - val_accuracy: 0.9989\n",
      "Epoch 75/100\n",
      "635/635 [==============================] - 19s 30ms/step - loss: 0.0123 - accuracy: 0.9967 - val_loss: 0.0048 - val_accuracy: 0.9993\n",
      "Epoch 76/100\n",
      "635/635 [==============================] - 19s 30ms/step - loss: 0.0104 - accuracy: 0.9980 - val_loss: 0.0045 - val_accuracy: 0.9987\n",
      "Epoch 77/100\n",
      "635/635 [==============================] - 19s 30ms/step - loss: 0.0122 - accuracy: 0.9966 - val_loss: 0.0092 - val_accuracy: 0.9967\n",
      "Epoch 78/100\n",
      "635/635 [==============================] - 19s 30ms/step - loss: 0.0126 - accuracy: 0.9967 - val_loss: 0.0030 - val_accuracy: 0.9994\n",
      "Epoch 79/100\n",
      "635/635 [==============================] - 19s 30ms/step - loss: 0.0102 - accuracy: 0.9974 - val_loss: 0.0043 - val_accuracy: 0.9990\n",
      "Epoch 80/100\n",
      "635/635 [==============================] - 19s 30ms/step - loss: 0.0100 - accuracy: 0.9976 - val_loss: 0.0052 - val_accuracy: 0.9989\n",
      "Epoch 81/100\n",
      "635/635 [==============================] - 19s 30ms/step - loss: 0.0090 - accuracy: 0.9976 - val_loss: 0.0039 - val_accuracy: 0.9988\n",
      "Epoch 82/100\n",
      "635/635 [==============================] - 19s 30ms/step - loss: 0.0101 - accuracy: 0.9972 - val_loss: 0.0095 - val_accuracy: 0.9966\n",
      "Epoch 83/100\n",
      "635/635 [==============================] - 19s 30ms/step - loss: 0.0089 - accuracy: 0.9980 - val_loss: 0.0023 - val_accuracy: 0.9996\n",
      "Epoch 84/100\n",
      "635/635 [==============================] - 19s 30ms/step - loss: 0.0099 - accuracy: 0.9979 - val_loss: 0.0041 - val_accuracy: 0.9990\n",
      "Epoch 85/100\n",
      "635/635 [==============================] - 19s 30ms/step - loss: 0.0126 - accuracy: 0.9964 - val_loss: 0.0048 - val_accuracy: 0.9991\n",
      "Epoch 86/100\n",
      "635/635 [==============================] - 19s 30ms/step - loss: 0.0095 - accuracy: 0.9975 - val_loss: 0.0082 - val_accuracy: 0.9975\n",
      "Epoch 87/100\n",
      "635/635 [==============================] - 19s 30ms/step - loss: 0.0107 - accuracy: 0.9971 - val_loss: 0.0031 - val_accuracy: 0.9998\n",
      "Epoch 88/100\n",
      "635/635 [==============================] - 19s 30ms/step - loss: 0.0105 - accuracy: 0.9971 - val_loss: 0.0044 - val_accuracy: 0.9988\n",
      "Epoch 89/100\n",
      "635/635 [==============================] - 19s 30ms/step - loss: 0.0095 - accuracy: 0.9971 - val_loss: 0.0029 - val_accuracy: 0.9990\n",
      "Epoch 90/100\n",
      "635/635 [==============================] - 19s 30ms/step - loss: 0.0121 - accuracy: 0.9963 - val_loss: 0.0027 - val_accuracy: 0.9994\n",
      "Epoch 91/100\n",
      "635/635 [==============================] - 19s 30ms/step - loss: 0.0098 - accuracy: 0.9974 - val_loss: 0.0024 - val_accuracy: 0.9997\n",
      "Epoch 92/100\n",
      "635/635 [==============================] - 19s 30ms/step - loss: 0.0086 - accuracy: 0.9979 - val_loss: 0.0072 - val_accuracy: 0.9974\n",
      "Epoch 93/100\n",
      "635/635 [==============================] - 19s 30ms/step - loss: 0.0087 - accuracy: 0.9978 - val_loss: 0.0034 - val_accuracy: 0.9989\n",
      "Epoch 94/100\n",
      "635/635 [==============================] - 19s 30ms/step - loss: 0.0103 - accuracy: 0.9974 - val_loss: 0.0030 - val_accuracy: 0.9993\n",
      "Epoch 95/100\n",
      "635/635 [==============================] - 19s 30ms/step - loss: 0.0107 - accuracy: 0.9970 - val_loss: 0.0023 - val_accuracy: 0.9997\n",
      "Epoch 96/100\n",
      "635/635 [==============================] - 19s 30ms/step - loss: 0.0108 - accuracy: 0.9975 - val_loss: 0.0042 - val_accuracy: 0.9986\n",
      "Epoch 97/100\n",
      "635/635 [==============================] - 19s 30ms/step - loss: 0.0088 - accuracy: 0.9978 - val_loss: 0.0065 - val_accuracy: 0.9978\n",
      "Epoch 98/100\n",
      "635/635 [==============================] - 19s 30ms/step - loss: 0.0096 - accuracy: 0.9973 - val_loss: 0.0042 - val_accuracy: 0.9987\n",
      "Epoch 99/100\n",
      "635/635 [==============================] - 19s 30ms/step - loss: 0.0102 - accuracy: 0.9972 - val_loss: 0.0025 - val_accuracy: 0.9993\n",
      "Epoch 100/100\n",
      "635/635 [==============================] - 19s 30ms/step - loss: 0.0104 - accuracy: 0.9973 - val_loss: 0.0144 - val_accuracy: 0.9940\n"
     ]
    }
   ],
   "source": [
    "# Train the model\n",
    "history = model.fit(X_train, y_train, validation_data=(eval_X_reshaped, eval_y), epochs=100, batch_size=32, callbacks=[checkpoint])"
   ]
  },
  {
   "cell_type": "code",
   "execution_count": 16,
   "metadata": {},
   "outputs": [
    {
     "name": "stdout",
     "output_type": "stream",
     "text": [
      "  7/159 [>.............................] - ETA: 1s - loss: 0.0047 - accuracy: 0.9955     "
     ]
    },
    {
     "name": "stdout",
     "output_type": "stream",
     "text": [
      "159/159 [==============================] - 2s 10ms/step - loss: 0.0024 - accuracy: 0.9996\n",
      "Test Loss: 0.0024, Test Accuracy: 99.96%\n"
     ]
    },
    {
     "name": "stderr",
     "output_type": "stream",
     "text": [
      "2023-11-28 17:04:05.206455: W tensorflow/core/framework/cpu_allocator_impl.cc:82] Allocation of 7661889600 exceeds 10% of free system memory.\n"
     ]
    },
    {
     "name": "stdout",
     "output_type": "stream",
     "text": [
      "777/777 [==============================] - 8s 10ms/step - loss: 0.0144 - accuracy: 0.9940\n",
      "Evaluation Loss: 0.0144, Evaluation Accuracy: 99.40%\n"
     ]
    }
   ],
   "source": [
    "# # Evaluate the model on the test set\n",
    "loss, accuracy = model.evaluate(X_val, y_val)\n",
    "print(f\"Test Loss: {loss:.4f}, Test Accuracy: {accuracy * 100:.2f}%\")\n",
    "\n",
    "# Evaluate the model on the separate evaluation dataset\n",
    "eval_loss, eval_accuracy = model.evaluate(eval_X_reshaped, eval_y)\n",
    "print(\n",
    "    f\"Evaluation Loss: {eval_loss:.4f}, Evaluation Accuracy: {eval_accuracy * 100:.2f}%\"\n",
    ")"
   ]
  },
  {
   "cell_type": "code",
   "execution_count": 17,
   "metadata": {},
   "outputs": [
    {
     "name": "stdout",
     "output_type": "stream",
     "text": [
      "1/1 [==============================] - 0s 426ms/step\n",
      "[[1.1641453e-05]]\n"
     ]
    }
   ],
   "source": [
    "# Example usage\n",
    "file_path = '/home/jonat/test2.wav'\n",
    "lfcc_features = load_and_preprocess_audio(file_path)\n",
    "\n",
    "# Reshape the LFCC features to match the input shape of the model\n",
    "lfcc_features = np.expand_dims(lfcc_features, axis=0)\n",
    "lfcc_features = np.expand_dims(lfcc_features, axis=-1)  # Add channel dimension\n",
    "\n",
    "# Make predictions\n",
    "predictions = model.predict(lfcc_features)\n",
    "print(predictions)"
   ]
  },
  {
   "cell_type": "code",
   "execution_count": 18,
   "metadata": {},
   "outputs": [
    {
     "data": {
      "image/png": "[encoded data removed]",
      "text/plain": [
       "<Figure size 1000x500 with 1 Axes>"
      ]
     },
     "metadata": {},
     "output_type": "display_data"
    },
    {
     "data": {
      "image/png": "[encoded data removed]",
      "text/plain": [
       "<Figure size 1000x500 with 1 Axes>"
      ]
     },
     "metadata": {},
     "output_type": "display_data"
    },
    {
     "ename": "",
     "evalue": "",
     "output_type": "error",
     "traceback": [
      "\u001b[1;31mThe Kernel crashed while executing code in the the current cell or a previous cell. Please review the code in the cell(s) to identify a possible cause of the failure. Click <a href='https://aka.ms/vscodeJupyterKernelCrash'>here</a> for more info. View Jupyter <a href='command:jupyter.viewOutput'>log</a> for further details."
     ]
    }
   ],
   "source": [
    "import matplotlib.pyplot as plt\n",
    "\n",
    "# Plot training & validation loss values\n",
    "plt.figure(figsize=(10, 5))\n",
    "plt.plot(history.history['loss'])\n",
    "plt.plot(history.history['val_loss'])\n",
    "plt.title('Model loss')\n",
    "plt.ylabel('Loss')\n",
    "plt.xlabel('Epoch')\n",
    "plt.legend(['Train', 'Validation'], loc='upper right')\n",
    "plt.show()\n",
    "\n",
    "# Plot training & validation accuracy values\n",
    "plt.figure(figsize=(10, 5))\n",
    "plt.plot(history.history['accuracy'])\n",
    "plt.plot(history.history['val_accuracy'])\n",
    "plt.title('Model accuracy')\n",
    "plt.ylabel('Accuracy')\n",
    "plt.xlabel('Epoch')\n",
    "plt.legend(['Train', 'Validation'], loc='lower right')\n",
    "plt.show()"
   ]
  }
 ],
 "metadata": {
  "kernelspec": {
   "display_name": "ASV",
   "language": "python",
   "name": "python3"
  },
  "language_info": {
   "codemirror_mode": {
    "name": "ipython",
    "version": 3
   },
   "file_extension": ".py",
   "mimetype": "text/x-python",
   "name": "python",
   "nbconvert_exporter": "python",
   "pygments_lexer": "ipython3",
   "version": "3.9.18"
  }
 },
 "nbformat": 4,
 "nbformat_minor": 2
}
