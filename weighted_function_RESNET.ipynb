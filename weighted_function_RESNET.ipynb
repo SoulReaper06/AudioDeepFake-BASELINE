{
 "cells": [
  {
   "cell_type": "code",
   "execution_count": 1,
   "metadata": {},
   "outputs": [],
   "source": [
    "import os\n",
    "import numpy as np\n",
    "import librosa\n",
    "import tensorflow as tf\n",
    "from tensorflow.keras import layers, models, callbacks\n",
    "from sklearn.model_selection import train_test_split"
   ]
  },
  {
   "cell_type": "markdown",
   "metadata": {},
   "source": [
    "Apply augmentation only on Positive Samples"
   ]
  },
  {
   "cell_type": "code",
   "execution_count": 2,
   "metadata": {},
   "outputs": [],
   "source": [
    "# Function for preprocessing data with audio augmentation\n",
    "def preprocess_data_with_augmentation(file_path, max_time_steps=109, sample_rate=16000, duration=3, n_mels=80):\n",
    "    audio, _ = librosa.load(file_path, sr=sample_rate, duration=duration)\n",
    "\n",
    "    # Apply data augmentation\n",
    "    pitch_shifted_audio = librosa.effects.pitch_shift(audio,sr=sample_rate, n_steps=np.random.uniform(-2, 2))\n",
    "    time_stretched_audio = librosa.effects.time_stretch(audio, rate=np.random.uniform(0.8, 1.2))\n",
    "    amplitude_scaled_audio = audio * np.random.uniform(0.5, 1.5)\n",
    "\n",
    "    augmented_audios = [audio, pitch_shifted_audio, time_stretched_audio, amplitude_scaled_audio]\n",
    "\n",
    "    mel_spectrograms = []\n",
    "\n",
    "    for augmented_audio in augmented_audios:\n",
    "        # Extract Mel spectrogram using librosa\n",
    "        mel_spectrogram = librosa.feature.melspectrogram(y=augmented_audio, sr=sample_rate, n_mels=n_mels)\n",
    "        mel_spectrogram = librosa.power_to_db(mel_spectrogram, ref=np.max)\n",
    "\n",
    "        # Ensure all spectrograms have the same width (time steps)\n",
    "        if mel_spectrogram.shape[1] < max_time_steps:\n",
    "            mel_spectrogram = np.pad(mel_spectrogram, ((0, 0), (0, max_time_steps - mel_spectrogram.shape[1])), mode='constant')\n",
    "        else:\n",
    "            mel_spectrogram = mel_spectrogram[:, :max_time_steps]\n",
    "\n",
    "        mel_spectrograms.append(mel_spectrogram)\n",
    "\n",
    "    return mel_spectrograms"
   ]
  },
  {
   "cell_type": "code",
   "execution_count": 7,
   "metadata": {},
   "outputs": [],
   "source": [
    "# Set your file paths and constants\n",
    "TRAINING_LABEL = '/data/common_source/datasets/asvpoof-2019-dataset/LA/LA/ASVspoof2019_LA_cm_protocols/ASVspoof2019.LA.cm.train.trn.txt'\n",
    "TRAINING_DATA = '/data/common_source/datasets/asvpoof-2019-dataset/LA/LA/ASVspoof2019_LA_train/flac'\n",
    "VALIDATION_DATA = '/data/common_source/datasets/asvpoof-2019-dataset/LA/LA/ASVspoof2019_LA_dev/flac'\n",
    "VALIDATION_LABEL = '/data/common_source/datasets/asvpoof-2019-dataset/LA/LA/ASVspoof2019_LA_cm_protocols/ASVspoof2019.LA.cm.dev.trl.txt'\n",
    "SAMPLE_RATE = 16000  # Adjust if your sample rate is different\n",
    "DURATION = 3  # Adjust the duration of your audio samples\n",
    "N_MELS = 80  # Adjust the number of mel filters\n",
    "max_time_steps = 109 "
   ]
  },
  {
   "cell_type": "code",
   "execution_count": 4,
   "metadata": {},
   "outputs": [],
   "source": [
    "# Load labels for training Data\n",
    "if os.path.exists('labels/X_train_MEL.npy') and os.path.exists('labels/y_train_MEL.npy'):\n",
    "    X = np.load('labels/X_train_MEL.npy')\n",
    "    y = np.load('labels/y_train_MEL.npy')\n",
    "else:\n",
    "    train_labels = {}\n",
    "\n",
    "    with open(TRAINING_LABEL, 'r') as label_file:\n",
    "        lines = label_file.readlines()\n",
    "\n",
    "    for line in lines:\n",
    "        parts = line.strip().split()\n",
    "        file_name = parts[1]\n",
    "        label = 1 if parts[-1] == \"bonafide\" else 0\n",
    "        train_labels[file_name] = label\n",
    "\n",
    "    X = []\n",
    "    y = []\n",
    "\n",
    " # Define the maximum time steps for your model\n",
    "\n",
    "    for file_name, label in train_labels.items():\n",
    "        file_path = os.path.join(TRAINING_DATA, file_name + \".flac\")\n",
    "\n",
    "        # Use the preprocess_data function\n",
    "        mel_spectrogram = preprocess_data_with_augmentation(file_path, max_time_steps=max_time_steps)\n",
    "\n",
    "        X.append(mel_spectrogram)\n",
    "        y.append(label)\n",
    "        y.append(label)\n",
    "        y.append(label)\n",
    "        y.append(label)\n",
    "\n",
    "    X = np.array(X)\n",
    "    y = np.array(y)\n",
    "\n",
    "    # Save the preprocessed data\n",
    "    np.save('labels/X_train_MEL.npy', X)\n",
    "    np.save('labels/y_train_MEL.npy', y)\n"
   ]
  },
  {
   "cell_type": "code",
   "execution_count": 8,
   "metadata": {},
   "outputs": [
    {
     "name": "stdout",
     "output_type": "stream",
     "text": [
      "Shape of X before reshape: (25380, 4, 80, 109)\n",
      "Shape of y before reshape: (101520,)\n",
      "(101520, 80, 109, 1)\n"
     ]
    }
   ],
   "source": [
    "# Print out the shapes for debugging\n",
    "print(\"Shape of X before reshape:\", X.shape)\n",
    "print(\"Shape of y before reshape:\", y.shape)\n",
    "\n",
    "# Reshape input data to match the required input shape for ResNet\n",
    "X_new = X.reshape((X.shape[0]*4, N_MELS, max_time_steps, 1))\n",
    "\n",
    "print(X_new.shape)"
   ]
  },
  {
   "cell_type": "code",
   "execution_count": 9,
   "metadata": {},
   "outputs": [],
   "source": [
    "# Define input shape and number of classes\n",
    "input_shape = X[0].shape\n",
    "num_classes = 2  # Assuming you have two classes (0 and 1)"
   ]
  },
  {
   "cell_type": "code",
   "execution_count": 14,
   "metadata": {},
   "outputs": [],
   "source": [
    "# Load and preprocess evaluation data\n",
    "if os.path.exists('labels/val_X_MEL.npy') and os.path.exists('labels/val_y_MEL.npy'):\n",
    "    eval_X = np.load('labels/val_X_MEL.npy')\n",
    "    eval_y = np.load('labels/val_y_MEL.npy')\n",
    "else:\n",
    "    eval_X = []\n",
    "    eval_y = []\n",
    "\n",
    "    with open(VALIDATION_LABEL, 'r') as eval_label_file:\n",
    "        eval_lines = eval_label_file.readlines()\n",
    "\n",
    "    eval_labels = {}\n",
    "\n",
    "    for line in eval_lines:\n",
    "        parts = line.strip().split()\n",
    "        file_name = parts[1]\n",
    "        label = 1 if parts[-1] == \"bonafide\" else 0\n",
    "        eval_labels[file_name] = label\n",
    "\n",
    "    for file_name, label in eval_labels.items():\n",
    "        file_path = os.path.join(VALIDATION_DATA, file_name + \".flac\")\n",
    "\n",
    "        # Use the preprocess_data function\n",
    "        mel_spectrogram = preprocess_data_with_augmentation(file_path, max_time_steps=max_time_steps)\n",
    "\n",
    "        eval_X.append(mel_spectrogram)\n",
    "        eval_y.append(label)\n",
    "        eval_y.append(label)\n",
    "        eval_y.append(label)\n",
    "        eval_y.append(label)\n",
    "\n",
    "    eval_X = np.array(eval_X)\n",
    "    eval_y = np.array(eval_y)\n",
    "\n",
    "    # Save the preprocessed data\n",
    "    np.save('labels/val_X_MEL.npy', eval_X)\n",
    "    np.save('labels/val_y_MEL.npy', eval_y)\n"
   ]
  },
  {
   "cell_type": "code",
   "execution_count": 15,
   "metadata": {},
   "outputs": [
    {
     "name": "stdout",
     "output_type": "stream",
     "text": [
      "Shape of eval_X before reshape: (24844, 4, 80, 109)\n",
      "Shape of eval_y before reshape: (99376,)\n",
      "(99376, 80, 109, 1)\n"
     ]
    }
   ],
   "source": [
    "# Print out the shapes for debugging\n",
    "print(\"Shape of eval_X before reshape:\", eval_X.shape)\n",
    "print(\"Shape of eval_y before reshape:\", eval_y.shape)\n",
    "\n",
    "eval_X_reshaped = eval_X.reshape((eval_X.shape[0] * 4, N_MELS, max_time_steps, 1))\n",
    "\n",
    "print(eval_X_reshaped.shape)"
   ]
  },
  {
   "cell_type": "code",
   "execution_count": 26,
   "metadata": {},
   "outputs": [],
   "source": [
    "from tensorflow.keras import layers, models\n",
    "\n",
    "def resnet_block(x, filters, kernel_size=3, stride=1, conv_shortcut=False):\n",
    "    shortcut = x\n",
    "    if conv_shortcut:\n",
    "        shortcut = layers.Conv2D(filters, (1, 1), strides=(stride, stride))(shortcut)\n",
    "        shortcut = layers.BatchNormalization()(shortcut)\n",
    "\n",
    "    x = layers.Conv2D(filters, (kernel_size, kernel_size), strides=(stride, stride), padding='same')(x)\n",
    "    x = layers.BatchNormalization()(x)\n",
    "    x = layers.Activation('relu')(x)\n",
    "\n",
    "    x = layers.Conv2D(filters, (kernel_size, kernel_size), padding='same')(x)\n",
    "    x = layers.BatchNormalization()(x)\n",
    "\n",
    "    x = layers.add([x, shortcut])\n",
    "    x = layers.Activation('relu')(x)\n",
    "    return x\n",
    "\n",
    "# Build the ResNet model\n",
    "def build_resnet(input_shape, num_classes):\n",
    "    input_tensor = layers.Input(shape=input_shape)\n",
    "\n",
    "    x = layers.Conv2D(64, (7, 7), strides=(2, 2), padding='same')(input_tensor)\n",
    "    x = layers.BatchNormalization()(x)\n",
    "    x = layers.Activation('relu')(x)\n",
    "\n",
    "    x = layers.MaxPooling2D(pool_size=(3, 3), strides=(2, 2), padding='same')(x)\n",
    "\n",
    "    # ResNet blocks\n",
    "    for size in [64, 128, 256, 512]:\n",
    "        x = resnet_block(x, size, conv_shortcut=True)\n",
    "        x = resnet_block(x, size)\n",
    "\n",
    "    x = layers.GlobalAveragePooling2D()(x)\n",
    "    \n",
    "    x = layers.Dense(num_classes, activation='softmax')(x)\n",
    "\n",
    "    model = models.Model(inputs=input_tensor, outputs=x, name='resnet_model')\n",
    "    return model"
   ]
  },
  {
   "cell_type": "code",
   "execution_count": 27,
   "metadata": {},
   "outputs": [],
   "source": [
    "num_classes=2\n",
    "\n",
    "# Assuming input_shape is defined as the shape of one sample in your data\n",
    "input_shape = (80, 109, 1)\n",
    "\n",
    "# Build the model\n",
    "model = build_resnet(input_shape=input_shape, num_classes=num_classes)"
   ]
  },
  {
   "cell_type": "code",
   "execution_count": 28,
   "metadata": {},
   "outputs": [],
   "source": [
    "# Compile the model\n",
    "model.compile(optimizer='adam', loss='sparse_categorical_crossentropy', metrics=['accuracy'])\n",
    "\n",
    "# Early Stopping\n",
    "early_stopping = callbacks.EarlyStopping(monitor='val_loss', patience=10, restore_best_weights=True)\n"
   ]
  },
  {
   "cell_type": "code",
   "execution_count": 29,
   "metadata": {},
   "outputs": [
    {
     "name": "stdout",
     "output_type": "stream",
     "text": [
      "Model: \"resnet_model\"\n",
      "__________________________________________________________________________________________________\n",
      " Layer (type)                   Output Shape         Param #     Connected to                     \n",
      "==================================================================================================\n",
      " input_5 (InputLayer)           [(None, 80, 109, 1)  0           []                               \n",
      "                                ]                                                                 \n",
      "                                                                                                  \n",
      " conv2d_22 (Conv2D)             (None, 40, 55, 64)   3200        ['input_5[0][0]']                \n",
      "                                                                                                  \n",
      " batch_normalization_22 (BatchN  (None, 40, 55, 64)  256         ['conv2d_22[0][0]']              \n",
      " ormalization)                                                                                    \n",
      "                                                                                                  \n",
      " activation_18 (Activation)     (None, 40, 55, 64)   0           ['batch_normalization_22[0][0]'] \n",
      "                                                                                                  \n",
      " max_pooling2d (MaxPooling2D)   (None, 20, 28, 64)   0           ['activation_18[0][0]']          \n",
      "                                                                                                  \n",
      " conv2d_24 (Conv2D)             (None, 20, 28, 64)   36928       ['max_pooling2d[0][0]']          \n",
      "                                                                                                  \n",
      " batch_normalization_24 (BatchN  (None, 20, 28, 64)  256         ['conv2d_24[0][0]']              \n",
      " ormalization)                                                                                    \n",
      "                                                                                                  \n",
      " activation_19 (Activation)     (None, 20, 28, 64)   0           ['batch_normalization_24[0][0]'] \n",
      "                                                                                                  \n",
      " conv2d_25 (Conv2D)             (None, 20, 28, 64)   36928       ['activation_19[0][0]']          \n",
      "                                                                                                  \n",
      " conv2d_23 (Conv2D)             (None, 20, 28, 64)   4160        ['max_pooling2d[0][0]']          \n",
      "                                                                                                  \n",
      " batch_normalization_25 (BatchN  (None, 20, 28, 64)  256         ['conv2d_25[0][0]']              \n",
      " ormalization)                                                                                    \n",
      "                                                                                                  \n",
      " batch_normalization_23 (BatchN  (None, 20, 28, 64)  256         ['conv2d_23[0][0]']              \n",
      " ormalization)                                                                                    \n",
      "                                                                                                  \n",
      " add_8 (Add)                    (None, 20, 28, 64)   0           ['batch_normalization_25[0][0]', \n",
      "                                                                  'batch_normalization_23[0][0]'] \n",
      "                                                                                                  \n",
      " activation_20 (Activation)     (None, 20, 28, 64)   0           ['add_8[0][0]']                  \n",
      "                                                                                                  \n",
      " conv2d_26 (Conv2D)             (None, 20, 28, 64)   36928       ['activation_20[0][0]']          \n",
      "                                                                                                  \n",
      " batch_normalization_26 (BatchN  (None, 20, 28, 64)  256         ['conv2d_26[0][0]']              \n",
      " ormalization)                                                                                    \n",
      "                                                                                                  \n",
      " activation_21 (Activation)     (None, 20, 28, 64)   0           ['batch_normalization_26[0][0]'] \n",
      "                                                                                                  \n",
      " conv2d_27 (Conv2D)             (None, 20, 28, 64)   36928       ['activation_21[0][0]']          \n",
      "                                                                                                  \n",
      " batch_normalization_27 (BatchN  (None, 20, 28, 64)  256         ['conv2d_27[0][0]']              \n",
      " ormalization)                                                                                    \n",
      "                                                                                                  \n",
      " add_9 (Add)                    (None, 20, 28, 64)   0           ['batch_normalization_27[0][0]', \n",
      "                                                                  'activation_20[0][0]']          \n",
      "                                                                                                  \n",
      " activation_22 (Activation)     (None, 20, 28, 64)   0           ['add_9[0][0]']                  \n",
      "                                                                                                  \n",
      " conv2d_29 (Conv2D)             (None, 20, 28, 128)  73856       ['activation_22[0][0]']          \n",
      "                                                                                                  \n",
      " batch_normalization_29 (BatchN  (None, 20, 28, 128)  512        ['conv2d_29[0][0]']              \n",
      " ormalization)                                                                                    \n",
      "                                                                                                  \n",
      " activation_23 (Activation)     (None, 20, 28, 128)  0           ['batch_normalization_29[0][0]'] \n",
      "                                                                                                  \n",
      " conv2d_30 (Conv2D)             (None, 20, 28, 128)  147584      ['activation_23[0][0]']          \n",
      "                                                                                                  \n",
      " conv2d_28 (Conv2D)             (None, 20, 28, 128)  8320        ['activation_22[0][0]']          \n",
      "                                                                                                  \n",
      " batch_normalization_30 (BatchN  (None, 20, 28, 128)  512        ['conv2d_30[0][0]']              \n",
      " ormalization)                                                                                    \n",
      "                                                                                                  \n",
      " batch_normalization_28 (BatchN  (None, 20, 28, 128)  512        ['conv2d_28[0][0]']              \n",
      " ormalization)                                                                                    \n",
      "                                                                                                  \n",
      " add_10 (Add)                   (None, 20, 28, 128)  0           ['batch_normalization_30[0][0]', \n",
      "                                                                  'batch_normalization_28[0][0]'] \n",
      "                                                                                                  \n",
      " activation_24 (Activation)     (None, 20, 28, 128)  0           ['add_10[0][0]']                 \n",
      "                                                                                                  \n",
      " conv2d_31 (Conv2D)             (None, 20, 28, 128)  147584      ['activation_24[0][0]']          \n",
      "                                                                                                  \n",
      " batch_normalization_31 (BatchN  (None, 20, 28, 128)  512        ['conv2d_31[0][0]']              \n",
      " ormalization)                                                                                    \n",
      "                                                                                                  \n",
      " activation_25 (Activation)     (None, 20, 28, 128)  0           ['batch_normalization_31[0][0]'] \n",
      "                                                                                                  \n",
      " conv2d_32 (Conv2D)             (None, 20, 28, 128)  147584      ['activation_25[0][0]']          \n",
      "                                                                                                  \n",
      " batch_normalization_32 (BatchN  (None, 20, 28, 128)  512        ['conv2d_32[0][0]']              \n",
      " ormalization)                                                                                    \n",
      "                                                                                                  \n",
      " add_11 (Add)                   (None, 20, 28, 128)  0           ['batch_normalization_32[0][0]', \n",
      "                                                                  'activation_24[0][0]']          \n",
      "                                                                                                  \n",
      " activation_26 (Activation)     (None, 20, 28, 128)  0           ['add_11[0][0]']                 \n",
      "                                                                                                  \n",
      " conv2d_34 (Conv2D)             (None, 20, 28, 256)  295168      ['activation_26[0][0]']          \n",
      "                                                                                                  \n",
      " batch_normalization_34 (BatchN  (None, 20, 28, 256)  1024       ['conv2d_34[0][0]']              \n",
      " ormalization)                                                                                    \n",
      "                                                                                                  \n",
      " activation_27 (Activation)     (None, 20, 28, 256)  0           ['batch_normalization_34[0][0]'] \n",
      "                                                                                                  \n",
      " conv2d_35 (Conv2D)             (None, 20, 28, 256)  590080      ['activation_27[0][0]']          \n",
      "                                                                                                  \n",
      " conv2d_33 (Conv2D)             (None, 20, 28, 256)  33024       ['activation_26[0][0]']          \n",
      "                                                                                                  \n",
      " batch_normalization_35 (BatchN  (None, 20, 28, 256)  1024       ['conv2d_35[0][0]']              \n",
      " ormalization)                                                                                    \n",
      "                                                                                                  \n",
      " batch_normalization_33 (BatchN  (None, 20, 28, 256)  1024       ['conv2d_33[0][0]']              \n",
      " ormalization)                                                                                    \n",
      "                                                                                                  \n",
      " add_12 (Add)                   (None, 20, 28, 256)  0           ['batch_normalization_35[0][0]', \n",
      "                                                                  'batch_normalization_33[0][0]'] \n",
      "                                                                                                  \n",
      " activation_28 (Activation)     (None, 20, 28, 256)  0           ['add_12[0][0]']                 \n",
      "                                                                                                  \n",
      " conv2d_36 (Conv2D)             (None, 20, 28, 256)  590080      ['activation_28[0][0]']          \n",
      "                                                                                                  \n",
      " batch_normalization_36 (BatchN  (None, 20, 28, 256)  1024       ['conv2d_36[0][0]']              \n",
      " ormalization)                                                                                    \n",
      "                                                                                                  \n",
      " activation_29 (Activation)     (None, 20, 28, 256)  0           ['batch_normalization_36[0][0]'] \n",
      "                                                                                                  \n",
      " conv2d_37 (Conv2D)             (None, 20, 28, 256)  590080      ['activation_29[0][0]']          \n",
      "                                                                                                  \n",
      " batch_normalization_37 (BatchN  (None, 20, 28, 256)  1024       ['conv2d_37[0][0]']              \n",
      " ormalization)                                                                                    \n",
      "                                                                                                  \n",
      " add_13 (Add)                   (None, 20, 28, 256)  0           ['batch_normalization_37[0][0]', \n",
      "                                                                  'activation_28[0][0]']          \n",
      "                                                                                                  \n",
      " activation_30 (Activation)     (None, 20, 28, 256)  0           ['add_13[0][0]']                 \n",
      "                                                                                                  \n",
      " conv2d_39 (Conv2D)             (None, 20, 28, 512)  1180160     ['activation_30[0][0]']          \n",
      "                                                                                                  \n",
      " batch_normalization_39 (BatchN  (None, 20, 28, 512)  2048       ['conv2d_39[0][0]']              \n",
      " ormalization)                                                                                    \n",
      "                                                                                                  \n",
      " activation_31 (Activation)     (None, 20, 28, 512)  0           ['batch_normalization_39[0][0]'] \n",
      "                                                                                                  \n",
      " conv2d_40 (Conv2D)             (None, 20, 28, 512)  2359808     ['activation_31[0][0]']          \n",
      "                                                                                                  \n",
      " conv2d_38 (Conv2D)             (None, 20, 28, 512)  131584      ['activation_30[0][0]']          \n",
      "                                                                                                  \n",
      " batch_normalization_40 (BatchN  (None, 20, 28, 512)  2048       ['conv2d_40[0][0]']              \n",
      " ormalization)                                                                                    \n",
      "                                                                                                  \n",
      " batch_normalization_38 (BatchN  (None, 20, 28, 512)  2048       ['conv2d_38[0][0]']              \n",
      " ormalization)                                                                                    \n",
      "                                                                                                  \n",
      " add_14 (Add)                   (None, 20, 28, 512)  0           ['batch_normalization_40[0][0]', \n",
      "                                                                  'batch_normalization_38[0][0]'] \n",
      "                                                                                                  \n",
      " activation_32 (Activation)     (None, 20, 28, 512)  0           ['add_14[0][0]']                 \n",
      "                                                                                                  \n",
      " conv2d_41 (Conv2D)             (None, 20, 28, 512)  2359808     ['activation_32[0][0]']          \n",
      "                                                                                                  \n",
      " batch_normalization_41 (BatchN  (None, 20, 28, 512)  2048       ['conv2d_41[0][0]']              \n",
      " ormalization)                                                                                    \n",
      "                                                                                                  \n",
      " activation_33 (Activation)     (None, 20, 28, 512)  0           ['batch_normalization_41[0][0]'] \n",
      "                                                                                                  \n",
      " conv2d_42 (Conv2D)             (None, 20, 28, 512)  2359808     ['activation_33[0][0]']          \n",
      "                                                                                                  \n",
      " batch_normalization_42 (BatchN  (None, 20, 28, 512)  2048       ['conv2d_42[0][0]']              \n",
      " ormalization)                                                                                    \n",
      "                                                                                                  \n",
      " add_15 (Add)                   (None, 20, 28, 512)  0           ['batch_normalization_42[0][0]', \n",
      "                                                                  'activation_32[0][0]']          \n",
      "                                                                                                  \n",
      " activation_34 (Activation)     (None, 20, 28, 512)  0           ['add_15[0][0]']                 \n",
      "                                                                                                  \n",
      " global_average_pooling2d (Glob  (None, 512)         0           ['activation_34[0][0]']          \n",
      " alAveragePooling2D)                                                                              \n",
      "                                                                                                  \n",
      " dense_1 (Dense)                (None, 2)            1026        ['global_average_pooling2d[0][0]'\n",
      "                                                                 ]                                \n",
      "                                                                                                  \n",
      "==================================================================================================\n",
      "Total params: 11,190,082\n",
      "Trainable params: 11,180,354\n",
      "Non-trainable params: 9,728\n",
      "__________________________________________________________________________________________________\n"
     ]
    }
   ],
   "source": [
    "# Display the model summary\n",
    "model.summary()"
   ]
  },
  {
   "cell_type": "code",
   "execution_count": 31,
   "metadata": {},
   "outputs": [
    {
     "name": "stdout",
     "output_type": "stream",
     "text": [
      "{0: 0.5566247224278312, 1: 4.915032679738562}\n"
     ]
    }
   ],
   "source": [
    "# Train the model\n",
    "from sklearn.model_selection import train_test_split\n",
    "from sklearn.utils.class_weight import compute_class_weight\n",
    "\n",
    "# Split the data into training and testing sets\n",
    "X_train, X_test, y_train, y_test = train_test_split(X_new, y, test_size=0.2, random_state=42)\n",
    "\n",
    "# Calculate class weights\n",
    "class_weights = compute_class_weight(class_weight='balanced', classes=np.unique(y_train), y=y_train)\n",
    "class_weights_dict = {i: w for i, w in zip(np.unique(y_train), class_weights)}\n",
    "\n",
    "print(class_weights_dict)\n"
   ]
  },
  {
   "cell_type": "code",
   "execution_count": 32,
   "metadata": {},
   "outputs": [
    {
     "name": "stdout",
     "output_type": "stream",
     "text": [
      "Epoch 1/50\n"
     ]
    },
    {
     "name": "stderr",
     "output_type": "stream",
     "text": [
      "2023-11-16 03:58:07.262597: I tensorflow/stream_executor/cuda/cuda_dnn.cc:384] Loaded cuDNN version 8600\n",
      "2023-11-16 03:58:07.786520: I tensorflow/core/platform/default/subprocess.cc:304] Start cannot spawn child process: No such file or directory\n"
     ]
    },
    {
     "name": "stdout",
     "output_type": "stream",
     "text": [
      "1269/1269 [==============================] - ETA: 0s - loss: 0.1879 - accuracy: 0.9141"
     ]
    },
    {
     "name": "stderr",
     "output_type": "stream",
     "text": [
      "2023-11-16 04:00:16.498256: W tensorflow/core/framework/cpu_allocator_impl.cc:82] Allocation of 3466234880 exceeds 10% of free system memory.\n",
      "2023-11-16 04:00:18.955748: W tensorflow/core/framework/cpu_allocator_impl.cc:82] Allocation of 3466234880 exceeds 10% of free system memory.\n"
     ]
    },
    {
     "name": "stdout",
     "output_type": "stream",
     "text": [
      "1269/1269 [==============================] - 191s 147ms/step - loss: 0.1879 - accuracy: 0.9141 - val_loss: 1.6244 - val_accuracy: 0.6056\n",
      "Epoch 2/50\n",
      "1269/1269 [==============================] - 185s 146ms/step - loss: 0.0643 - accuracy: 0.9756 - val_loss: 1.5514 - val_accuracy: 0.8974\n",
      "Epoch 3/50\n",
      "1269/1269 [==============================] - 186s 146ms/step - loss: 0.0515 - accuracy: 0.9807 - val_loss: 0.5221 - val_accuracy: 0.8332\n",
      "Epoch 4/50\n",
      "1269/1269 [==============================] - 186s 147ms/step - loss: 0.0374 - accuracy: 0.9863 - val_loss: 0.1616 - val_accuracy: 0.9618\n",
      "Epoch 5/50\n",
      "1269/1269 [==============================] - 186s 147ms/step - loss: 0.0311 - accuracy: 0.9883 - val_loss: 0.1498 - val_accuracy: 0.9531\n",
      "Epoch 6/50\n",
      "1269/1269 [==============================] - 186s 146ms/step - loss: 0.0233 - accuracy: 0.9916 - val_loss: 0.4749 - val_accuracy: 0.9208\n",
      "Epoch 7/50\n",
      "1269/1269 [==============================] - 186s 147ms/step - loss: 0.0198 - accuracy: 0.9925 - val_loss: 0.0529 - val_accuracy: 0.9841\n",
      "Epoch 8/50\n",
      "1269/1269 [==============================] - 186s 147ms/step - loss: 0.0168 - accuracy: 0.9939 - val_loss: 0.1460 - val_accuracy: 0.9658\n",
      "Epoch 9/50\n",
      "1269/1269 [==============================] - 186s 147ms/step - loss: 0.0132 - accuracy: 0.9953 - val_loss: 1.1561 - val_accuracy: 0.7685\n",
      "Epoch 10/50\n",
      "1269/1269 [==============================] - 186s 146ms/step - loss: 0.0145 - accuracy: 0.9946 - val_loss: 0.0425 - val_accuracy: 0.9869\n",
      "Epoch 11/50\n",
      "1269/1269 [==============================] - 186s 146ms/step - loss: 0.0120 - accuracy: 0.9959 - val_loss: 0.0484 - val_accuracy: 0.9846\n",
      "Epoch 12/50\n",
      "1269/1269 [==============================] - 186s 147ms/step - loss: 0.0102 - accuracy: 0.9962 - val_loss: 5.2112 - val_accuracy: 0.5283\n",
      "Epoch 13/50\n",
      "1269/1269 [==============================] - 186s 146ms/step - loss: 0.0059 - accuracy: 0.9978 - val_loss: 0.0828 - val_accuracy: 0.9852\n",
      "Epoch 14/50\n",
      "1269/1269 [==============================] - 186s 146ms/step - loss: 0.0081 - accuracy: 0.9969 - val_loss: 0.0890 - val_accuracy: 0.9776\n",
      "Epoch 15/50\n",
      "1269/1269 [==============================] - 186s 146ms/step - loss: 0.0082 - accuracy: 0.9969 - val_loss: 0.0368 - val_accuracy: 0.9900\n",
      "Epoch 16/50\n",
      "1269/1269 [==============================] - 186s 146ms/step - loss: 0.0053 - accuracy: 0.9980 - val_loss: 0.0338 - val_accuracy: 0.9905\n",
      "Epoch 17/50\n",
      "1269/1269 [==============================] - 186s 146ms/step - loss: 0.0089 - accuracy: 0.9969 - val_loss: 0.1369 - val_accuracy: 0.9569\n",
      "Epoch 18/50\n",
      "1269/1269 [==============================] - 186s 146ms/step - loss: 0.0051 - accuracy: 0.9982 - val_loss: 0.4430 - val_accuracy: 0.9106\n",
      "Epoch 19/50\n",
      "1269/1269 [==============================] - 186s 146ms/step - loss: 0.0047 - accuracy: 0.9980 - val_loss: 0.2981 - val_accuracy: 0.9363\n",
      "Epoch 20/50\n",
      "1269/1269 [==============================] - 186s 146ms/step - loss: 0.0034 - accuracy: 0.9987 - val_loss: 0.3186 - val_accuracy: 0.9422\n",
      "Epoch 21/50\n",
      "1269/1269 [==============================] - 186s 146ms/step - loss: 0.0056 - accuracy: 0.9981 - val_loss: 0.0613 - val_accuracy: 0.9811\n",
      "Epoch 22/50\n",
      "1269/1269 [==============================] - 186s 146ms/step - loss: 0.0048 - accuracy: 0.9984 - val_loss: 0.0487 - val_accuracy: 0.9891\n",
      "Epoch 23/50\n",
      "1269/1269 [==============================] - 186s 146ms/step - loss: 0.0047 - accuracy: 0.9982 - val_loss: 0.1250 - val_accuracy: 0.9714\n",
      "Epoch 24/50\n",
      "1269/1269 [==============================] - 186s 146ms/step - loss: 0.0029 - accuracy: 0.9989 - val_loss: 0.0777 - val_accuracy: 0.9871\n",
      "Epoch 25/50\n",
      "1269/1269 [==============================] - 186s 146ms/step - loss: 0.0035 - accuracy: 0.9986 - val_loss: 0.0433 - val_accuracy: 0.9913\n",
      "Epoch 26/50\n",
      "1269/1269 [==============================] - 186s 146ms/step - loss: 0.0050 - accuracy: 0.9982 - val_loss: 0.0771 - val_accuracy: 0.9863\n"
     ]
    }
   ],
   "source": [
    "# Train the model with audio data augmentation\n",
    "NUM_EPOCHS = 50\n",
    "BATCH_SIZE = 64\n",
    "history = model.fit(X_train, y_train, epochs=NUM_EPOCHS, batch_size=BATCH_SIZE,\n",
    "                            validation_data=(eval_X_reshaped, eval_y), class_weight = class_weights_dict, callbacks=[early_stopping])"
   ]
  },
  {
   "cell_type": "code",
   "execution_count": 33,
   "metadata": {},
   "outputs": [
    {
     "name": "stdout",
     "output_type": "stream",
     "text": [
      "635/635 [==============================] - 14s 21ms/step - loss: 0.0063 - accuracy: 0.9976\n",
      "Test Loss: 0.0063, Test Accuracy: 99.76%\n"
     ]
    },
    {
     "name": "stderr",
     "output_type": "stream",
     "text": [
      "2023-11-16 05:21:28.652213: W tensorflow/core/framework/cpu_allocator_impl.cc:82] Allocation of 3466234880 exceeds 10% of free system memory.\n",
      "2023-11-16 05:21:31.023296: W tensorflow/core/framework/cpu_allocator_impl.cc:82] Allocation of 3466234880 exceeds 10% of free system memory.\n"
     ]
    },
    {
     "name": "stdout",
     "output_type": "stream",
     "text": [
      "3106/3106 [==============================] - 66s 21ms/step - loss: 0.0338 - accuracy: 0.9905\n",
      "Evaluation Loss: 0.0338, Evaluation Accuracy: 99.05%\n"
     ]
    }
   ],
   "source": [
    "# Evaluate the model on the test set\n",
    "loss, accuracy = model.evaluate(X_test, y_test)\n",
    "print(f'Test Loss: {loss:.4f}, Test Accuracy: {accuracy * 100:.2f}%')\n",
    "\n",
    "# Evaluate the model on the separate evaluation dataset\n",
    "eval_loss, eval_accuracy = model.evaluate(eval_X_reshaped, eval_y)\n",
    "print(f'Evaluation Loss: {eval_loss:.4f}, Evaluation Accuracy: {eval_accuracy * 100:.2f}%')"
   ]
  },
  {
   "cell_type": "code",
   "execution_count": 34,
   "metadata": {},
   "outputs": [
    {
     "data": {
      "image/png": "[encoded data removed]",
      "text/plain": [
       "<Figure size 1000x500 with 1 Axes>"
      ]
     },
     "metadata": {},
     "output_type": "display_data"
    },
    {
     "data": {
      "image/png": "[encoded data removed]",
      "text/plain": [
       "<Figure size 1000x500 with 1 Axes>"
      ]
     },
     "metadata": {},
     "output_type": "display_data"
    }
   ],
   "source": [
    "import matplotlib.pyplot as plt\n",
    "\n",
    "# Plot training & validation loss values\n",
    "plt.figure(figsize=(10, 5))\n",
    "plt.plot(history.history['loss'])\n",
    "plt.plot(history.history['val_loss'])\n",
    "plt.title('Model loss')\n",
    "plt.ylabel('Loss')\n",
    "plt.xlabel('Epoch')\n",
    "plt.legend(['Train', 'Validation'], loc='upper right')\n",
    "plt.show()\n",
    "\n",
    "# Plot training & validation accuracy values\n",
    "plt.figure(figsize=(10, 5))\n",
    "plt.plot(history.history['accuracy'])\n",
    "plt.plot(history.history['val_accuracy'])\n",
    "plt.title('Model accuracy')\n",
    "plt.ylabel('Accuracy')\n",
    "plt.xlabel('Epoch')\n",
    "plt.legend(['Train', 'Validation'], loc='lower right')\n",
    "plt.show()"
   ]
  },
  {
   "cell_type": "code",
   "execution_count": null,
   "metadata": {},
   "outputs": [],
   "source": [
    "# Save the trained model\n",
    "model.save(\"models/weighted_loss_augmentation.h5\")"
   ]
  }
 ],
 "metadata": {
  "kernelspec": {
   "display_name": "ASV",
   "language": "python",
   "name": "python3"
  },
  "language_info": {
   "codemirror_mode": {
    "name": "ipython",
    "version": 3
   },
   "file_extension": ".py",
   "mimetype": "text/x-python",
   "name": "python",
   "nbconvert_exporter": "python",
   "pygments_lexer": "ipython3",
   "version": "3.9.18"
  }
 },
 "nbformat": 4,
 "nbformat_minor": 2
}
